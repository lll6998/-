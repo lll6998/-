{
 "nbformat": 4,
 "nbformat_minor": 0,
 "metadata": {
  "colab": {
   "provenance": [],
   "gpuType": "T4"
  },
  "kernelspec": {
   "name": "python3",
   "display_name": "Python 3"
  },
  "language_info": {
   "name": "python"
  },
  "accelerator": "GPU"
 },
 "cells": [
  {
   "cell_type": "code",
   "metadata": {
    "colab": {
     "base_uri": "https://localhost:8080/"
    },
    "id": "R2q03MgeppAX",
    "outputId": "cdca2056-f103-492d-87b4-026a8c5d0bbc",
    "jupyter": {
     "is_executing": true
    }
   },
   "source": [
    "pip install thop\n"
   ],
   "outputs": [],
   "execution_count": null
  },
  {
   "cell_type": "code",
   "source": [
    "\n",
    "import torch\n",
    "import torch.nn as nn\n",
    "import torch.optim as optim\n",
    "import torchvision\n",
    "import torchvision.transforms as transforms\n",
    "from tqdm import tqdm\n",
    "import time\n",
    "import os\n",
    "import pandas as pd\n",
    "from thop import profile\n",
    "import matplotlib.pyplot as plt"
   ],
   "metadata": {
    "id": "dK7Uv4NNsk3Y"
   },
   "execution_count": 10,
   "outputs": []
  },
  {
   "cell_type": "code",
   "source": [
    "\n",
    "class Config:\n",
    "    def __init__(self):\n",
    "        self.device = torch.device(\"cuda\" if torch.cuda.is_available() else \"cpu\")\n",
    "        self.batch_size = 128\n",
    "        self.epochs = 50\n",
    "        self.learning_rate = 0.001\n",
    "        self.num_classes = 10\n",
    "        self.results_path = \"results\"\n",
    "        self.model_save_path = os.path.join(self.results_path, \"saved_models\")\n",
    "        self.log_save_path = os.path.join(self.results_path, \"training_logs\")\n",
    "        os.makedirs(self.model_save_path, exist_ok=True)\n",
    "        os.makedirs(self.log_save_path, exist_ok=True)\n",
    "\n",
    "config = Config()\n",
    "print(f\"使用设备: {config.device}\")\n",
    "print(f\"结果将保存在: '{config.results_path}' 文件夹下\")\n"
   ],
   "metadata": {
    "colab": {
     "base_uri": "https://localhost:8080/"
    },
    "id": "YaUgfyHOtOst",
    "outputId": "f88c8cd4-a343-47c9-eb52-046346fa3311"
   },
   "execution_count": 11,
   "outputs": [
    {
     "output_type": "stream",
     "name": "stdout",
     "text": [
      "使用设备: cuda\n",
      "结果将保存在: 'results' 文件夹下\n"
     ]
    }
   ]
  },
  {
   "cell_type": "code",
   "source": [
    "# 数据加载与预处理\n",
    "transform_train = transforms.Compose([\n",
    "    transforms.RandomCrop(32, padding=4),\n",
    "    transforms.RandomHorizontalFlip(),\n",
    "    transforms.ToTensor(),\n",
    "    transforms.Normalize((0.4914, 0.4822, 0.4465), (0.2023, 0.1994, 0.2010)),\n",
    "])\n",
    "transform_test = transforms.Compose([\n",
    "    transforms.ToTensor(),\n",
    "    transforms.Normalize((0.4914, 0.4822, 0.4465), (0.2023, 0.1994, 0.2010)),\n",
    "])\n",
    "trainset = torchvision.datasets.CIFAR10(root='./data', train=True, download=True, transform=transform_train)\n",
    "trainloader = torch.utils.data.DataLoader(trainset, batch_size=config.batch_size, shuffle=True, num_workers=2)\n",
    "testset = torchvision.datasets.CIFAR10(root='./data', train=False, download=True, transform=transform_test)\n",
    "testloader = torch.utils.data.DataLoader(testset, batch_size=config.batch_size, shuffle=False, num_workers=2)\n",
    "\n"
   ],
   "metadata": {
    "id": "iU9mks4otdT3"
   },
   "execution_count": 12,
   "outputs": []
  },
  {
   "cell_type": "code",
   "source": [
    "\n",
    "# 4. 模型定义\n",
    "\n",
    "\n",
    "class CustomBlock(nn.Module):\n",
    "    def __init__(self, in_channels, out_channels, use_residual=False, use_bn=True):\n",
    "        super(CustomBlock, self).__init__()\n",
    "        self.use_residual = use_residual\n",
    "\n",
    "\n",
    "        if self.use_residual and in_channels != out_channels:\n",
    "            raise ValueError(\"残差连接要求输入和输出通道数相同\")\n",
    "\n",
    "        self.conv1 = nn.Conv2d(in_channels, out_channels, kernel_size=3, padding=1, bias=not use_bn)\n",
    "        self.bn1 = nn.BatchNorm2d(out_channels) if use_bn else nn.Identity()\n",
    "        self.relu = nn.ReLU(inplace=True)\n",
    "        self.conv2 = nn.Conv2d(out_channels, out_channels, kernel_size=3, padding=1, bias=not use_bn)\n",
    "        self.bn2 = nn.BatchNorm2d(out_channels) if use_bn else nn.Identity()\n",
    "\n",
    "    def forward(self, x):\n",
    "        identity = x\n",
    "\n",
    "        out = self.conv1(x)\n",
    "        out = self.bn1(out)\n",
    "        out = self.relu(out)\n",
    "\n",
    "        out = self.conv2(out)\n",
    "        out = self.bn2(out)\n",
    "\n",
    "        if self.use_residual:\n",
    "            out += identity\n",
    "\n",
    "        out = self.relu(out)\n",
    "        return out\n",
    "\n",
    "\n",
    "class CustomCNN(nn.Module):\n",
    "    def __init__(self, use_residual=False, use_bn=True, num_classes=10):\n",
    "        super(CustomCNN, self).__init__()\n",
    "\n",
    "        self.layer1 = nn.Sequential(\n",
    "            nn.Conv2d(3, 64, kernel_size=3, padding=1, bias=not use_bn),\n",
    "            nn.BatchNorm2d(64) if use_bn else nn.Identity(),\n",
    "            nn.ReLU(inplace=True),\n",
    "            nn.MaxPool2d(2)\n",
    "        )\n",
    "        self.layer2 = CustomBlock(64, 64, use_residual, use_bn)\n",
    "        self.layer3 = nn.Sequential(\n",
    "            nn.Conv2d(64, 128, kernel_size=3, padding=1, stride=2, bias=not use_bn),\n",
    "            nn.BatchNorm2d(128) if use_bn else nn.Identity(),\n",
    "            nn.ReLU(inplace=True)\n",
    "        )\n",
    "        self.layer4 = CustomBlock(128, 128, use_residual, use_bn)\n",
    "\n",
    "        self.avgpool = nn.AdaptiveAvgPool2d((1, 1))\n",
    "        self.classifier = nn.Linear(128, num_classes)\n",
    "\n",
    "    def forward(self, x):\n",
    "        x = self.layer1(x)\n",
    "        x = self.layer2(x)\n",
    "        x = self.layer3(x)\n",
    "        x = self.layer4(x)\n",
    "        x = self.avgpool(x)\n",
    "        x = x.view(x.size(0), -1)\n",
    "        x = self.classifier(x)\n",
    "        return x\n",
    "\n",
    "\n",
    "\n",
    "class BasicBlock(nn.Module):\n",
    "    expansion = 1\n",
    "\n",
    "    def __init__(self, in_planes, planes, stride=1, use_bn=True):\n",
    "        super(BasicBlock, self).__init__()\n",
    "        self.bn1 = nn.BatchNorm2d(planes) if use_bn else nn.Identity()\n",
    "        self.bn2 = nn.BatchNorm2d(planes) if use_bn else nn.Identity()\n",
    "        self.conv1 = nn.Conv2d(in_planes, planes, kernel_size=3, stride=stride, padding=1, bias=False)\n",
    "        self.conv2 = nn.Conv2d(planes, planes, kernel_size=3, stride=1, padding=1, bias=False)\n",
    "        self.shortcut = nn.Sequential()\n",
    "        if stride != 1 or in_planes != self.expansion * planes:\n",
    "            self.shortcut = nn.Sequential(\n",
    "                nn.Conv2d(in_planes, self.expansion * planes, kernel_size=1, stride=stride, bias=False),\n",
    "                nn.BatchNorm2d(self.expansion * planes) if use_bn else nn.Identity()\n",
    "            )\n",
    "\n",
    "    def forward(self, x, use_residual=True):\n",
    "        out = torch.relu(self.bn1(self.conv1(x)))\n",
    "        out = self.bn2(self.conv2(out))\n",
    "        if use_residual:\n",
    "            out += self.shortcut(x)\n",
    "        out = torch.relu(out)\n",
    "        return out\n",
    "\n",
    "\n",
    "class ResNet(nn.Module):\n",
    "    def __init__(self, block, num_blocks, num_classes=10, use_bn=True, use_residual=True):\n",
    "        super(ResNet, self).__init__()\n",
    "        self.in_planes = 64\n",
    "        self.use_bn = use_bn\n",
    "        self.use_residual = use_residual\n",
    "        self.conv1 = nn.Conv2d(3, 64, kernel_size=3, stride=1, padding=1, bias=False)\n",
    "        self.bn1 = nn.BatchNorm2d(64) if self.use_bn else nn.Identity()\n",
    "        self.layer1 = self._make_layer(block, 64, num_blocks[0], stride=1)\n",
    "        self.layer2 = self._make_layer(block, 128, num_blocks[1], stride=2)\n",
    "        self.layer3 = self._make_layer(block, 256, num_blocks[2], stride=2)\n",
    "        self.layer4 = self._make_layer(block, 512, num_blocks[3], stride=2)\n",
    "        self.linear = nn.Linear(512 * block.expansion, num_classes)\n",
    "\n",
    "    def _make_layer(self, block, planes, num_blocks, stride):\n",
    "        strides = [stride] + [1] * (num_blocks - 1)\n",
    "        layers = []\n",
    "        for s in strides:\n",
    "            layers.append(block(self.in_planes, planes, s, self.use_bn))\n",
    "            self.in_planes = planes * block.expansion\n",
    "        return nn.Sequential(*layers)\n",
    "\n",
    "    def forward(self, x):\n",
    "        out = torch.relu(self.bn1(self.conv1(x)))\n",
    "        for layer_group in [self.layer1, self.layer2, self.layer3, self.layer4]:\n",
    "            for layer in layer_group:\n",
    "                out = layer(out, use_residual=self.use_residual)\n",
    "        out = torch.nn.functional.avg_pool2d(out, 4)\n",
    "        out = out.view(out.size(0), -1)\n",
    "        out = self.linear(out)\n",
    "        return out\n",
    "\n",
    "\n",
    "def ResNet18(use_bn=True, use_residual=True):\n",
    "    return ResNet(BasicBlock, [2, 2, 2, 2], use_bn=use_bn, use_residual=use_residual)"
   ],
   "metadata": {
    "id": "rtgfKrFPtnWt",
    "jupyter": {
     "is_executing": true
    }
   },
   "outputs": [],
   "execution_count": null
  },
  {
   "cell_type": "code",
   "source": [
    "\n",
    "# 5. 训练和评估函数\n",
    "\n",
    "def train_one_epoch(model, dataloader, criterion, optimizer, device):\n",
    "    model.train()\n",
    "    total_loss = 0\n",
    "    progress_bar = tqdm(dataloader, desc=\"Training\", unit=\"batch\", leave=False)\n",
    "    for inputs, targets in progress_bar:\n",
    "        inputs, targets = inputs.to(device), targets.to(device)\n",
    "        optimizer.zero_grad()\n",
    "        outputs = model(inputs)\n",
    "        loss = criterion(outputs, targets)\n",
    "        loss.backward()\n",
    "        optimizer.step()\n",
    "        total_loss += loss.item()\n",
    "        progress_bar.set_postfix(loss=loss.item())\n",
    "    return total_loss / len(dataloader)\n",
    "\n",
    "\n",
    "def evaluate(model, dataloader, criterion, device):\n",
    "    model.eval()\n",
    "    total_loss = 0\n",
    "    correct = 0\n",
    "    total = 0\n",
    "    with torch.no_grad():\n",
    "        progress_bar = tqdm(dataloader, desc=\"Evaluating\", unit=\"batch\", leave=False)\n",
    "        for inputs, targets in progress_bar:\n",
    "            inputs, targets = inputs.to(device), targets.to(device)\n",
    "            outputs = model(inputs)\n",
    "            loss = criterion(outputs, targets)\n",
    "            total_loss += loss.item()\n",
    "            _, predicted = outputs.max(1)\n",
    "            total += targets.size(0)\n",
    "            correct += predicted.eq(targets).sum().item()\n",
    "            progress_bar.set_postfix(acc=100. * correct / total)\n",
    "    accuracy = 100. * correct / total\n",
    "    avg_loss = total_loss / len(dataloader)\n",
    "    return avg_loss, accuracy"
   ],
   "metadata": {
    "id": "T3nGGNrLt5Sd"
   },
   "execution_count": 14,
   "outputs": []
  },
  {
   "cell_type": "code",
   "source": [
    "\n",
    "# 6. 主执行逻辑\n",
    "def run_experiment(model_name, model_fn):\n",
    "    print(f\"\\n{'=' * 40}\")\n",
    "    print(f\"开始实验: {model_name}\")\n",
    "    print(f\"{'=' * 40}\")\n",
    "\n",
    "    model = model_fn().to(config.device)\n",
    "\n",
    "    dummy_input = torch.randn(1, 3, 32, 32).to(config.device)\n",
    "    flops, params = profile(model, inputs=(dummy_input,), verbose=False)\n",
    "    params_m = params / 1e6\n",
    "    flops_g = flops / 1e9\n",
    "    print(f\"模型: {model_name}\")\n",
    "    print(f\"  -> 参数量 (Params): {params_m:.2f} M\")\n",
    "    print(f\"  -> 计算量 (FLOPs): {flops_g:.2f} G\")\n",
    "\n",
    "    criterion = nn.CrossEntropyLoss()\n",
    "    optimizer = optim.Adam(model.parameters(), lr=config.learning_rate)\n",
    "    scheduler = optim.lr_scheduler.CosineAnnealingLR(optimizer, T_max=config.epochs)\n",
    "\n",
    "    start_time = time.time()\n",
    "    best_acc = 0.0\n",
    "    history = {'epoch': [], 'train_loss': [], 'test_loss': [], 'test_acc': []}\n",
    "\n",
    "    for epoch in range(config.epochs):\n",
    "        print(f\"\\n--- Epoch {epoch + 1}/{config.epochs} ---\")\n",
    "        train_loss = train_one_epoch(model, trainloader, criterion, optimizer, config.device)\n",
    "        test_loss, test_acc = evaluate(model, testloader, criterion, config.device)\n",
    "        scheduler.step()\n",
    "\n",
    "        history['epoch'].append(epoch + 1)\n",
    "        history['train_loss'].append(train_loss)\n",
    "        history['test_loss'].append(test_loss)\n",
    "        history['test_acc'].append(test_acc)\n",
    "\n",
    "        if test_acc > best_acc:\n",
    "            print(f\"新的最佳准确率: {test_acc:.2f}% (优于之前的 {best_acc:.2f}%)。正在保存模型...\")\n",
    "            best_acc = test_acc\n",
    "            model_path = os.path.join(config.model_save_path, f\"{model_name}_best.pth\")\n",
    "            torch.save(model.state_dict(), model_path)\n",
    "\n",
    "        print(\n",
    "            f\"Epoch {epoch + 1} Summary: Train Loss: {train_loss:.4f} | Test Loss: {test_loss:.4f} | Test Acc: {test_acc:.2f}%\")\n",
    "\n",
    "    end_time = time.time()\n",
    "    total_time_min = (end_time - start_time) / 60\n",
    "\n",
    "    print(f\"\\n{'=' * 40}\")\n",
    "    print(f\" 实验结束: {model_name}\")\n",
    "    print(f\"  -> 最高测试准确率: {best_acc:.2f}%\")\n",
    "    print(f\"  -> 总训练时间: {total_time_min:.2f} 分钟\")\n",
    "\n",
    "    log_df = pd.DataFrame(history)\n",
    "    log_filename = os.path.join(config.log_save_path, f\"{model_name}_log.csv\")\n",
    "    log_df.to_csv(log_filename, index=False)\n",
    "    print(f\"  -> 训练日志已保存到: {log_filename}\")\n",
    "\n",
    "    summary_data = {\n",
    "        'model_name': [model_name],\n",
    "        'best_accuracy': [f\"{best_acc:.2f}\"],\n",
    "        'params_M': [f\"{params_m:.2f}\"],\n",
    "        'flops_G': [f\"{flops_g:.2f}\"],\n",
    "        'training_time_min': [f\"{total_time_min:.2f}\"]\n",
    "    }\n",
    "    summary_df = pd.DataFrame(summary_data)\n",
    "    summary_filename = os.path.join(config.results_path, \"summary_results.csv\")\n",
    "\n",
    "    if not os.path.exists(summary_filename):\n",
    "        summary_df.to_csv(summary_filename, index=False)\n",
    "    else:\n",
    "        summary_df.to_csv(summary_filename, mode='a', header=False, index=False)\n",
    "    print(f\"  -> 最终结果已汇总到: {summary_filename}\")\n",
    "    print(f\"{'=' * 40}\\n\")"
   ],
   "metadata": {
    "id": "yEuMR-bNt_HR"
   },
   "execution_count": 15,
   "outputs": []
  },
  {
   "cell_type": "code",
   "source": [
    "# 7. 可视化与保存对比图\n",
    "\n",
    "\n",
    "def plot_and_save_comparison_chart(experiment_names, metric, config):\n",
    "    plt.style.use('seaborn-v0_8-whitegrid')\n",
    "    fig, ax = plt.subplots(figsize=(12, 8))\n",
    "\n",
    "    for name in experiment_names:\n",
    "        log_file = os.path.join(config.log_save_path, f\"{name}_log.csv\")\n",
    "        if not os.path.exists(log_file):\n",
    "            print(f\"警告: 未找到日志文件 {log_file}，跳过该实验。\")\n",
    "            continue\n",
    "        df = pd.read_csv(log_file)\n",
    "        ax.plot(df['epoch'], df[metric], label=name, marker='o', linestyle='-', markersize=4)\n",
    "\n",
    "    metric_title = metric.replace('_', ' ').title()\n",
    "    ax.set_title(f'{metric_title} Comparison', fontsize=16, fontweight='bold')\n",
    "    ax.set_xlabel('Epoch', fontsize=12)\n",
    "    ax.set_ylabel(metric_title, fontsize=12)\n",
    "    ax.legend(fontsize=10, loc='best')\n",
    "    ax.grid(True)\n",
    "\n",
    "    plot_save_path = os.path.join(config.results_path, \"plots\")\n",
    "    os.makedirs(plot_save_path, exist_ok=True)\n",
    "\n",
    "    plot_filename = f\"comparison_{'_vs_'.join(experiment_names)}_{metric}.png\"\n",
    "    full_save_path = os.path.join(plot_save_path, plot_filename)\n",
    "\n",
    "    plt.savefig(full_save_path, dpi=300, bbox_inches='tight')\n",
    "    plt.close(fig)\n",
    "    print(f\"对比图已保存到: {full_save_path}\")"
   ],
   "metadata": {
    "id": "w6AZeGgDxMEk"
   },
   "execution_count": 16,
   "outputs": []
  },
  {
   "cell_type": "code",
   "source": [],
   "metadata": {
    "id": "tNFN8YKGw_fx"
   },
   "execution_count": 16,
   "outputs": []
  },
  {
   "cell_type": "code",
   "source": [
    "if __name__ == '__main__':\n",
    "    experiments = {\n",
    "        \"1_CustomCNN_Plain_No-BN\": lambda: CustomCNN(use_residual=False, use_bn=False),\n",
    "        \"2_CustomCNN_Plain_With-BN\": lambda: CustomCNN(use_residual=False, use_bn=True),\n",
    "        \"3_CustomCNN_Residual_With-BN\": lambda: CustomCNN(use_residual=True, use_bn=True),\n",
    "        \"4_PlainNet-18\": lambda: ResNet18(use_bn=True, use_residual=False),\n",
    "        \"5_ResNet-18_Standard\": lambda: ResNet18(use_bn=True, use_residual=True),\n",
    "        \"6_ResNet-18_No-BN\": lambda: ResNet18(use_bn=False, use_residual=True),\n",
    "    }\n",
    "\n",
    "    for name, model_function in experiments.items():\n",
    "        run_experiment(name, model_function)"
   ],
   "metadata": {
    "colab": {
     "base_uri": "https://localhost:8080/"
    },
    "id": "RHtqUA4muEfJ",
    "outputId": "8b644d41-35e5-41b1-cd21-d7244eba842e"
   },
   "execution_count": 17,
   "outputs": [
    {
     "output_type": "stream",
     "name": "stdout",
     "text": [
      "\n",
      "========================================\n",
      "开始实验: 1_CustomCNN_Plain_No-BN\n",
      "========================================\n",
      "模型: 1_CustomCNN_Plain_No-BN\n",
      "  -> 参数量 (Params): 0.45 M\n",
      "  -> 计算量 (FLOPs): 0.04 G\n",
      "\n",
      "--- Epoch 1/50 ---\n"
     ]
    },
    {
     "output_type": "stream",
     "name": "stderr",
     "text": []
    },
    {
     "output_type": "stream",
     "name": "stdout",
     "text": [
      "新的最佳准确率: 42.09% (优于之前的 0.00%)。正在保存模型...\n",
      "Epoch 1 Summary: Train Loss: 1.8442 | Test Loss: 1.5328 | Test Acc: 42.09%\n",
      "\n",
      "--- Epoch 2/50 ---\n"
     ]
    },
    {
     "output_type": "stream",
     "name": "stderr",
     "text": []
    },
    {
     "output_type": "stream",
     "name": "stdout",
     "text": [
      "新的最佳准确率: 54.20% (优于之前的 42.09%)。正在保存模型...\n",
      "Epoch 2 Summary: Train Loss: 1.4041 | Test Loss: 1.2517 | Test Acc: 54.20%\n",
      "\n",
      "--- Epoch 3/50 ---\n"
     ]
    },
    {
     "output_type": "stream",
     "name": "stderr",
     "text": []
    },
    {
     "output_type": "stream",
     "name": "stdout",
     "text": [
      "新的最佳准确率: 59.89% (优于之前的 54.20%)。正在保存模型...\n",
      "Epoch 3 Summary: Train Loss: 1.1843 | Test Loss: 1.1190 | Test Acc: 59.89%\n",
      "\n",
      "--- Epoch 4/50 ---\n"
     ]
    },
    {
     "output_type": "stream",
     "name": "stderr",
     "text": []
    },
    {
     "output_type": "stream",
     "name": "stdout",
     "text": [
      "新的最佳准确率: 65.54% (优于之前的 59.89%)。正在保存模型...\n",
      "Epoch 4 Summary: Train Loss: 1.0368 | Test Loss: 0.9947 | Test Acc: 65.54%\n",
      "\n",
      "--- Epoch 5/50 ---\n"
     ]
    },
    {
     "output_type": "stream",
     "name": "stderr",
     "text": []
    },
    {
     "output_type": "stream",
     "name": "stdout",
     "text": [
      "新的最佳准确率: 66.53% (优于之前的 65.54%)。正在保存模型...\n",
      "Epoch 5 Summary: Train Loss: 0.9495 | Test Loss: 0.9423 | Test Acc: 66.53%\n",
      "\n",
      "--- Epoch 6/50 ---\n"
     ]
    },
    {
     "output_type": "stream",
     "name": "stderr",
     "text": []
    },
    {
     "output_type": "stream",
     "name": "stdout",
     "text": [
      "新的最佳准确率: 70.50% (优于之前的 66.53%)。正在保存模型...\n",
      "Epoch 6 Summary: Train Loss: 0.8763 | Test Loss: 0.8457 | Test Acc: 70.50%\n",
      "\n",
      "--- Epoch 7/50 ---\n"
     ]
    },
    {
     "output_type": "stream",
     "name": "stderr",
     "text": []
    },
    {
     "output_type": "stream",
     "name": "stdout",
     "text": [
      "新的最佳准确率: 71.49% (优于之前的 70.50%)。正在保存模型...\n",
      "Epoch 7 Summary: Train Loss: 0.8260 | Test Loss: 0.8095 | Test Acc: 71.49%\n",
      "\n",
      "--- Epoch 8/50 ---\n"
     ]
    },
    {
     "output_type": "stream",
     "name": "stderr",
     "text": []
    },
    {
     "output_type": "stream",
     "name": "stdout",
     "text": [
      "新的最佳准确率: 73.40% (优于之前的 71.49%)。正在保存模型...\n",
      "Epoch 8 Summary: Train Loss: 0.7754 | Test Loss: 0.7597 | Test Acc: 73.40%\n",
      "\n",
      "--- Epoch 9/50 ---\n"
     ]
    },
    {
     "output_type": "stream",
     "name": "stderr",
     "text": []
    },
    {
     "output_type": "stream",
     "name": "stdout",
     "text": [
      "新的最佳准确率: 73.51% (优于之前的 73.40%)。正在保存模型...\n",
      "Epoch 9 Summary: Train Loss: 0.7234 | Test Loss: 0.7900 | Test Acc: 73.51%\n",
      "\n",
      "--- Epoch 10/50 ---\n"
     ]
    },
    {
     "output_type": "stream",
     "name": "stderr",
     "text": []
    },
    {
     "output_type": "stream",
     "name": "stdout",
     "text": [
      "新的最佳准确率: 76.97% (优于之前的 73.51%)。正在保存模型...\n",
      "Epoch 10 Summary: Train Loss: 0.6878 | Test Loss: 0.6959 | Test Acc: 76.97%\n",
      "\n",
      "--- Epoch 11/50 ---\n"
     ]
    },
    {
     "output_type": "stream",
     "name": "stderr",
     "text": []
    },
    {
     "output_type": "stream",
     "name": "stdout",
     "text": [
      "Epoch 11 Summary: Train Loss: 0.6478 | Test Loss: 0.7078 | Test Acc: 76.14%\n",
      "\n",
      "--- Epoch 12/50 ---\n"
     ]
    },
    {
     "output_type": "stream",
     "name": "stderr",
     "text": []
    },
    {
     "output_type": "stream",
     "name": "stdout",
     "text": [
      "新的最佳准确率: 77.32% (优于之前的 76.97%)。正在保存模型...\n",
      "Epoch 12 Summary: Train Loss: 0.6126 | Test Loss: 0.6809 | Test Acc: 77.32%\n",
      "\n",
      "--- Epoch 13/50 ---\n"
     ]
    },
    {
     "output_type": "stream",
     "name": "stderr",
     "text": []
    },
    {
     "output_type": "stream",
     "name": "stdout",
     "text": [
      "新的最佳准确率: 77.72% (优于之前的 77.32%)。正在保存模型...\n",
      "Epoch 13 Summary: Train Loss: 0.5867 | Test Loss: 0.6418 | Test Acc: 77.72%\n",
      "\n",
      "--- Epoch 14/50 ---\n"
     ]
    },
    {
     "output_type": "stream",
     "name": "stderr",
     "text": []
    },
    {
     "output_type": "stream",
     "name": "stdout",
     "text": [
      "新的最佳准确率: 79.24% (优于之前的 77.72%)。正在保存模型...\n",
      "Epoch 14 Summary: Train Loss: 0.5576 | Test Loss: 0.6234 | Test Acc: 79.24%\n",
      "\n",
      "--- Epoch 15/50 ---\n"
     ]
    },
    {
     "output_type": "stream",
     "name": "stderr",
     "text": []
    },
    {
     "output_type": "stream",
     "name": "stdout",
     "text": [
      "新的最佳准确率: 80.17% (优于之前的 79.24%)。正在保存模型...\n",
      "Epoch 15 Summary: Train Loss: 0.5271 | Test Loss: 0.5932 | Test Acc: 80.17%\n",
      "\n",
      "--- Epoch 16/50 ---\n"
     ]
    },
    {
     "output_type": "stream",
     "name": "stderr",
     "text": []
    },
    {
     "output_type": "stream",
     "name": "stdout",
     "text": [
      "新的最佳准确率: 80.46% (优于之前的 80.17%)。正在保存模型...\n",
      "Epoch 16 Summary: Train Loss: 0.5071 | Test Loss: 0.5851 | Test Acc: 80.46%\n",
      "\n",
      "--- Epoch 17/50 ---\n"
     ]
    },
    {
     "output_type": "stream",
     "name": "stderr",
     "text": []
    },
    {
     "output_type": "stream",
     "name": "stdout",
     "text": [
      "新的最佳准确率: 80.64% (优于之前的 80.46%)。正在保存模型...\n",
      "Epoch 17 Summary: Train Loss: 0.4873 | Test Loss: 0.5769 | Test Acc: 80.64%\n",
      "\n",
      "--- Epoch 18/50 ---\n"
     ]
    },
    {
     "output_type": "stream",
     "name": "stderr",
     "text": []
    },
    {
     "output_type": "stream",
     "name": "stdout",
     "text": [
      "Epoch 18 Summary: Train Loss: 0.4731 | Test Loss: 0.5893 | Test Acc: 80.39%\n",
      "\n",
      "--- Epoch 19/50 ---\n"
     ]
    },
    {
     "output_type": "stream",
     "name": "stderr",
     "text": []
    },
    {
     "output_type": "stream",
     "name": "stdout",
     "text": [
      "新的最佳准确率: 81.84% (优于之前的 80.64%)。正在保存模型...\n",
      "Epoch 19 Summary: Train Loss: 0.4533 | Test Loss: 0.5466 | Test Acc: 81.84%\n",
      "\n",
      "--- Epoch 20/50 ---\n"
     ]
    },
    {
     "output_type": "stream",
     "name": "stderr",
     "text": []
    },
    {
     "output_type": "stream",
     "name": "stdout",
     "text": [
      "Epoch 20 Summary: Train Loss: 0.4434 | Test Loss: 0.5804 | Test Acc: 80.63%\n",
      "\n",
      "--- Epoch 21/50 ---\n"
     ]
    },
    {
     "output_type": "stream",
     "name": "stderr",
     "text": []
    },
    {
     "output_type": "stream",
     "name": "stdout",
     "text": [
      "新的最佳准确率: 82.98% (优于之前的 81.84%)。正在保存模型...\n",
      "Epoch 21 Summary: Train Loss: 0.4226 | Test Loss: 0.5298 | Test Acc: 82.98%\n",
      "\n",
      "--- Epoch 22/50 ---\n"
     ]
    },
    {
     "output_type": "stream",
     "name": "stderr",
     "text": []
    },
    {
     "output_type": "stream",
     "name": "stdout",
     "text": [
      "Epoch 22 Summary: Train Loss: 0.4112 | Test Loss: 0.5465 | Test Acc: 82.41%\n",
      "\n",
      "--- Epoch 23/50 ---\n"
     ]
    },
    {
     "output_type": "stream",
     "name": "stderr",
     "text": []
    },
    {
     "output_type": "stream",
     "name": "stdout",
     "text": [
      "新的最佳准确率: 83.24% (优于之前的 82.98%)。正在保存模型...\n",
      "Epoch 23 Summary: Train Loss: 0.3944 | Test Loss: 0.5260 | Test Acc: 83.24%\n",
      "\n",
      "--- Epoch 24/50 ---\n"
     ]
    },
    {
     "output_type": "stream",
     "name": "stderr",
     "text": []
    },
    {
     "output_type": "stream",
     "name": "stdout",
     "text": [
      "Epoch 24 Summary: Train Loss: 0.3829 | Test Loss: 0.5179 | Test Acc: 83.01%\n",
      "\n",
      "--- Epoch 25/50 ---\n"
     ]
    },
    {
     "output_type": "stream",
     "name": "stderr",
     "text": []
    },
    {
     "output_type": "stream",
     "name": "stdout",
     "text": [
      "Epoch 25 Summary: Train Loss: 0.3683 | Test Loss: 0.5320 | Test Acc: 82.63%\n",
      "\n",
      "--- Epoch 26/50 ---\n"
     ]
    },
    {
     "output_type": "stream",
     "name": "stderr",
     "text": []
    },
    {
     "output_type": "stream",
     "name": "stdout",
     "text": [
      "Epoch 26 Summary: Train Loss: 0.3556 | Test Loss: 0.5298 | Test Acc: 83.00%\n",
      "\n",
      "--- Epoch 27/50 ---\n"
     ]
    },
    {
     "output_type": "stream",
     "name": "stderr",
     "text": []
    },
    {
     "output_type": "stream",
     "name": "stdout",
     "text": [
      "新的最佳准确率: 83.95% (优于之前的 83.24%)。正在保存模型...\n",
      "Epoch 27 Summary: Train Loss: 0.3437 | Test Loss: 0.5172 | Test Acc: 83.95%\n",
      "\n",
      "--- Epoch 28/50 ---\n"
     ]
    },
    {
     "output_type": "stream",
     "name": "stderr",
     "text": []
    },
    {
     "output_type": "stream",
     "name": "stdout",
     "text": [
      "Epoch 28 Summary: Train Loss: 0.3313 | Test Loss: 0.5184 | Test Acc: 83.69%\n",
      "\n",
      "--- Epoch 29/50 ---\n"
     ]
    },
    {
     "output_type": "stream",
     "name": "stderr",
     "text": []
    },
    {
     "output_type": "stream",
     "name": "stdout",
     "text": [
      "新的最佳准确率: 84.05% (优于之前的 83.95%)。正在保存模型...\n",
      "Epoch 29 Summary: Train Loss: 0.3218 | Test Loss: 0.5027 | Test Acc: 84.05%\n",
      "\n",
      "--- Epoch 30/50 ---\n"
     ]
    },
    {
     "output_type": "stream",
     "name": "stderr",
     "text": []
    },
    {
     "output_type": "stream",
     "name": "stdout",
     "text": [
      "Epoch 30 Summary: Train Loss: 0.3115 | Test Loss: 0.5214 | Test Acc: 84.03%\n",
      "\n",
      "--- Epoch 31/50 ---\n"
     ]
    },
    {
     "output_type": "stream",
     "name": "stderr",
     "text": []
    },
    {
     "output_type": "stream",
     "name": "stdout",
     "text": [
      "Epoch 31 Summary: Train Loss: 0.2997 | Test Loss: 0.5219 | Test Acc: 83.71%\n",
      "\n",
      "--- Epoch 32/50 ---\n"
     ]
    },
    {
     "output_type": "stream",
     "name": "stderr",
     "text": []
    },
    {
     "output_type": "stream",
     "name": "stdout",
     "text": [
      "新的最佳准确率: 84.33% (优于之前的 84.05%)。正在保存模型...\n",
      "Epoch 32 Summary: Train Loss: 0.2953 | Test Loss: 0.4891 | Test Acc: 84.33%\n",
      "\n",
      "--- Epoch 33/50 ---\n"
     ]
    },
    {
     "output_type": "stream",
     "name": "stderr",
     "text": []
    },
    {
     "output_type": "stream",
     "name": "stdout",
     "text": [
      "新的最佳准确率: 84.43% (优于之前的 84.33%)。正在保存模型...\n",
      "Epoch 33 Summary: Train Loss: 0.2866 | Test Loss: 0.5057 | Test Acc: 84.43%\n",
      "\n",
      "--- Epoch 34/50 ---\n"
     ]
    },
    {
     "output_type": "stream",
     "name": "stderr",
     "text": []
    },
    {
     "output_type": "stream",
     "name": "stdout",
     "text": [
      "新的最佳准确率: 84.87% (优于之前的 84.43%)。正在保存模型...\n",
      "Epoch 34 Summary: Train Loss: 0.2758 | Test Loss: 0.4987 | Test Acc: 84.87%\n",
      "\n",
      "--- Epoch 35/50 ---\n"
     ]
    },
    {
     "output_type": "stream",
     "name": "stderr",
     "text": []
    },
    {
     "output_type": "stream",
     "name": "stdout",
     "text": [
      "新的最佳准确率: 85.05% (优于之前的 84.87%)。正在保存模型...\n",
      "Epoch 35 Summary: Train Loss: 0.2681 | Test Loss: 0.4939 | Test Acc: 85.05%\n",
      "\n",
      "--- Epoch 36/50 ---\n"
     ]
    },
    {
     "output_type": "stream",
     "name": "stderr",
     "text": []
    },
    {
     "output_type": "stream",
     "name": "stdout",
     "text": [
      "Epoch 36 Summary: Train Loss: 0.2581 | Test Loss: 0.5069 | Test Acc: 84.80%\n",
      "\n",
      "--- Epoch 37/50 ---\n"
     ]
    },
    {
     "output_type": "stream",
     "name": "stderr",
     "text": []
    },
    {
     "output_type": "stream",
     "name": "stdout",
     "text": [
      "新的最佳准确率: 85.06% (优于之前的 85.05%)。正在保存模型...\n",
      "Epoch 37 Summary: Train Loss: 0.2553 | Test Loss: 0.5022 | Test Acc: 85.06%\n",
      "\n",
      "--- Epoch 38/50 ---\n"
     ]
    },
    {
     "output_type": "stream",
     "name": "stderr",
     "text": []
    },
    {
     "output_type": "stream",
     "name": "stdout",
     "text": [
      "新的最佳准确率: 85.19% (优于之前的 85.06%)。正在保存模型...\n",
      "Epoch 38 Summary: Train Loss: 0.2464 | Test Loss: 0.4990 | Test Acc: 85.19%\n",
      "\n",
      "--- Epoch 39/50 ---\n"
     ]
    },
    {
     "output_type": "stream",
     "name": "stderr",
     "text": []
    },
    {
     "output_type": "stream",
     "name": "stdout",
     "text": [
      "Epoch 39 Summary: Train Loss: 0.2394 | Test Loss: 0.5068 | Test Acc: 84.73%\n",
      "\n",
      "--- Epoch 40/50 ---\n"
     ]
    },
    {
     "output_type": "stream",
     "name": "stderr",
     "text": []
    },
    {
     "output_type": "stream",
     "name": "stdout",
     "text": [
      "Epoch 40 Summary: Train Loss: 0.2322 | Test Loss: 0.5239 | Test Acc: 84.42%\n",
      "\n",
      "--- Epoch 41/50 ---\n"
     ]
    },
    {
     "output_type": "stream",
     "name": "stderr",
     "text": []
    },
    {
     "output_type": "stream",
     "name": "stdout",
     "text": [
      "新的最佳准确率: 85.30% (优于之前的 85.19%)。正在保存模型...\n",
      "Epoch 41 Summary: Train Loss: 0.2300 | Test Loss: 0.4994 | Test Acc: 85.30%\n",
      "\n",
      "--- Epoch 42/50 ---\n"
     ]
    },
    {
     "output_type": "stream",
     "name": "stderr",
     "text": []
    },
    {
     "output_type": "stream",
     "name": "stdout",
     "text": [
      "新的最佳准确率: 85.42% (优于之前的 85.30%)。正在保存模型...\n",
      "Epoch 42 Summary: Train Loss: 0.2270 | Test Loss: 0.4929 | Test Acc: 85.42%\n",
      "\n",
      "--- Epoch 43/50 ---\n"
     ]
    },
    {
     "output_type": "stream",
     "name": "stderr",
     "text": []
    },
    {
     "output_type": "stream",
     "name": "stdout",
     "text": [
      "Epoch 43 Summary: Train Loss: 0.2207 | Test Loss: 0.5021 | Test Acc: 85.20%\n",
      "\n",
      "--- Epoch 44/50 ---\n"
     ]
    },
    {
     "output_type": "stream",
     "name": "stderr",
     "text": []
    },
    {
     "output_type": "stream",
     "name": "stdout",
     "text": [
      "新的最佳准确率: 85.52% (优于之前的 85.42%)。正在保存模型...\n",
      "Epoch 44 Summary: Train Loss: 0.2148 | Test Loss: 0.5011 | Test Acc: 85.52%\n",
      "\n",
      "--- Epoch 45/50 ---\n"
     ]
    },
    {
     "output_type": "stream",
     "name": "stderr",
     "text": []
    },
    {
     "output_type": "stream",
     "name": "stdout",
     "text": [
      "Epoch 45 Summary: Train Loss: 0.2159 | Test Loss: 0.5000 | Test Acc: 85.30%\n",
      "\n",
      "--- Epoch 46/50 ---\n"
     ]
    },
    {
     "output_type": "stream",
     "name": "stderr",
     "text": []
    },
    {
     "output_type": "stream",
     "name": "stdout",
     "text": [
      "Epoch 46 Summary: Train Loss: 0.2092 | Test Loss: 0.4995 | Test Acc: 85.40%\n",
      "\n",
      "--- Epoch 47/50 ---\n"
     ]
    },
    {
     "output_type": "stream",
     "name": "stderr",
     "text": []
    },
    {
     "output_type": "stream",
     "name": "stdout",
     "text": [
      "新的最佳准确率: 85.60% (优于之前的 85.52%)。正在保存模型...\n",
      "Epoch 47 Summary: Train Loss: 0.2083 | Test Loss: 0.4994 | Test Acc: 85.60%\n",
      "\n",
      "--- Epoch 48/50 ---\n"
     ]
    },
    {
     "output_type": "stream",
     "name": "stderr",
     "text": []
    },
    {
     "output_type": "stream",
     "name": "stdout",
     "text": [
      "Epoch 48 Summary: Train Loss: 0.2066 | Test Loss: 0.5021 | Test Acc: 85.29%\n",
      "\n",
      "--- Epoch 49/50 ---\n"
     ]
    },
    {
     "output_type": "stream",
     "name": "stderr",
     "text": []
    },
    {
     "output_type": "stream",
     "name": "stdout",
     "text": [
      "Epoch 49 Summary: Train Loss: 0.2065 | Test Loss: 0.5015 | Test Acc: 85.46%\n",
      "\n",
      "--- Epoch 50/50 ---\n"
     ]
    },
    {
     "output_type": "stream",
     "name": "stderr",
     "text": []
    },
    {
     "output_type": "stream",
     "name": "stdout",
     "text": [
      "Epoch 50 Summary: Train Loss: 0.2068 | Test Loss: 0.5011 | Test Acc: 85.50%\n",
      "\n",
      "========================================\n",
      " 实验结束: 1_CustomCNN_Plain_No-BN\n",
      "  -> 最高测试准确率: 85.60%\n",
      "  -> 总训练时间: 20.80 分钟\n",
      "  -> 训练日志已保存到: results/training_logs/1_CustomCNN_Plain_No-BN_log.csv\n",
      "  -> 最终结果已汇总到: results/summary_results.csv\n",
      "========================================\n",
      "\n",
      "\n",
      "========================================\n",
      "开始实验: 2_CustomCNN_Plain_With-BN\n",
      "========================================\n",
      "模型: 2_CustomCNN_Plain_With-BN\n",
      "  -> 参数量 (Params): 0.45 M\n",
      "  -> 计算量 (FLOPs): 0.04 G\n",
      "\n",
      "--- Epoch 1/50 ---\n"
     ]
    },
    {
     "output_type": "stream",
     "name": "stderr",
     "text": []
    },
    {
     "output_type": "stream",
     "name": "stdout",
     "text": [
      "新的最佳准确率: 60.20% (优于之前的 0.00%)。正在保存模型...\n",
      "Epoch 1 Summary: Train Loss: 1.3460 | Test Loss: 1.1044 | Test Acc: 60.20%\n",
      "\n",
      "--- Epoch 2/50 ---\n"
     ]
    },
    {
     "output_type": "stream",
     "name": "stderr",
     "text": []
    },
    {
     "output_type": "stream",
     "name": "stdout",
     "text": [
      "新的最佳准确率: 67.42% (优于之前的 60.20%)。正在保存模型...\n",
      "Epoch 2 Summary: Train Loss: 0.9787 | Test Loss: 0.9322 | Test Acc: 67.42%\n",
      "\n",
      "--- Epoch 3/50 ---\n"
     ]
    },
    {
     "output_type": "stream",
     "name": "stderr",
     "text": []
    },
    {
     "output_type": "stream",
     "name": "stdout",
     "text": [
      "新的最佳准确率: 68.01% (优于之前的 67.42%)。正在保存模型...\n",
      "Epoch 3 Summary: Train Loss: 0.8309 | Test Loss: 0.9235 | Test Acc: 68.01%\n",
      "\n",
      "--- Epoch 4/50 ---\n"
     ]
    },
    {
     "output_type": "stream",
     "name": "stderr",
     "text": []
    },
    {
     "output_type": "stream",
     "name": "stdout",
     "text": [
      "新的最佳准确率: 71.77% (优于之前的 68.01%)。正在保存模型...\n",
      "Epoch 4 Summary: Train Loss: 0.7107 | Test Loss: 0.8281 | Test Acc: 71.77%\n",
      "\n",
      "--- Epoch 5/50 ---\n"
     ]
    },
    {
     "output_type": "stream",
     "name": "stderr",
     "text": []
    },
    {
     "output_type": "stream",
     "name": "stdout",
     "text": [
      "新的最佳准确率: 76.74% (优于之前的 71.77%)。正在保存模型...\n",
      "Epoch 5 Summary: Train Loss: 0.6363 | Test Loss: 0.6918 | Test Acc: 76.74%\n",
      "\n",
      "--- Epoch 6/50 ---\n"
     ]
    },
    {
     "output_type": "stream",
     "name": "stderr",
     "text": []
    },
    {
     "output_type": "stream",
     "name": "stdout",
     "text": [
      "Epoch 6 Summary: Train Loss: 0.5892 | Test Loss: 0.8496 | Test Acc: 72.31%\n",
      "\n",
      "--- Epoch 7/50 ---\n"
     ]
    },
    {
     "output_type": "stream",
     "name": "stderr",
     "text": []
    },
    {
     "output_type": "stream",
     "name": "stdout",
     "text": [
      "新的最佳准确率: 78.84% (优于之前的 76.74%)。正在保存模型...\n",
      "Epoch 7 Summary: Train Loss: 0.5376 | Test Loss: 0.6438 | Test Acc: 78.84%\n",
      "\n",
      "--- Epoch 8/50 ---\n"
     ]
    },
    {
     "output_type": "stream",
     "name": "stderr",
     "text": []
    },
    {
     "output_type": "stream",
     "name": "stdout",
     "text": [
      "新的最佳准确率: 79.22% (优于之前的 78.84%)。正在保存模型...\n",
      "Epoch 8 Summary: Train Loss: 0.5064 | Test Loss: 0.6240 | Test Acc: 79.22%\n",
      "\n",
      "--- Epoch 9/50 ---\n"
     ]
    },
    {
     "output_type": "stream",
     "name": "stderr",
     "text": []
    },
    {
     "output_type": "stream",
     "name": "stdout",
     "text": [
      "Epoch 9 Summary: Train Loss: 0.4732 | Test Loss: 0.6835 | Test Acc: 77.90%\n",
      "\n",
      "--- Epoch 10/50 ---\n"
     ]
    },
    {
     "output_type": "stream",
     "name": "stderr",
     "text": []
    },
    {
     "output_type": "stream",
     "name": "stdout",
     "text": [
      "新的最佳准确率: 82.60% (优于之前的 79.22%)。正在保存模型...\n",
      "Epoch 10 Summary: Train Loss: 0.4504 | Test Loss: 0.5178 | Test Acc: 82.60%\n",
      "\n",
      "--- Epoch 11/50 ---\n"
     ]
    },
    {
     "output_type": "stream",
     "name": "stderr",
     "text": []
    },
    {
     "output_type": "stream",
     "name": "stdout",
     "text": [
      "新的最佳准确率: 82.89% (优于之前的 82.60%)。正在保存模型...\n",
      "Epoch 11 Summary: Train Loss: 0.4233 | Test Loss: 0.5112 | Test Acc: 82.89%\n",
      "\n",
      "--- Epoch 12/50 ---\n"
     ]
    },
    {
     "output_type": "stream",
     "name": "stderr",
     "text": []
    },
    {
     "output_type": "stream",
     "name": "stdout",
     "text": [
      "Epoch 12 Summary: Train Loss: 0.4035 | Test Loss: 0.5362 | Test Acc: 82.41%\n",
      "\n",
      "--- Epoch 13/50 ---\n"
     ]
    },
    {
     "output_type": "stream",
     "name": "stderr",
     "text": []
    },
    {
     "output_type": "stream",
     "name": "stdout",
     "text": [
      "Epoch 13 Summary: Train Loss: 0.3909 | Test Loss: 0.5360 | Test Acc: 81.98%\n",
      "\n",
      "--- Epoch 14/50 ---\n"
     ]
    },
    {
     "output_type": "stream",
     "name": "stderr",
     "text": []
    },
    {
     "output_type": "stream",
     "name": "stdout",
     "text": [
      "新的最佳准确率: 83.21% (优于之前的 82.89%)。正在保存模型...\n",
      "Epoch 14 Summary: Train Loss: 0.3672 | Test Loss: 0.5109 | Test Acc: 83.21%\n",
      "\n",
      "--- Epoch 15/50 ---\n"
     ]
    },
    {
     "output_type": "stream",
     "name": "stderr",
     "text": []
    },
    {
     "output_type": "stream",
     "name": "stdout",
     "text": [
      "Epoch 15 Summary: Train Loss: 0.3506 | Test Loss: 0.5768 | Test Acc: 81.22%\n",
      "\n",
      "--- Epoch 16/50 ---\n"
     ]
    },
    {
     "output_type": "stream",
     "name": "stderr",
     "text": []
    },
    {
     "output_type": "stream",
     "name": "stdout",
     "text": [
      "新的最佳准确率: 85.01% (优于之前的 83.21%)。正在保存模型...\n",
      "Epoch 16 Summary: Train Loss: 0.3384 | Test Loss: 0.4568 | Test Acc: 85.01%\n",
      "\n",
      "--- Epoch 17/50 ---\n"
     ]
    },
    {
     "output_type": "stream",
     "name": "stderr",
     "text": []
    },
    {
     "output_type": "stream",
     "name": "stdout",
     "text": [
      "Epoch 17 Summary: Train Loss: 0.3251 | Test Loss: 0.5173 | Test Acc: 84.11%\n",
      "\n",
      "--- Epoch 18/50 ---\n"
     ]
    },
    {
     "output_type": "stream",
     "name": "stderr",
     "text": []
    },
    {
     "output_type": "stream",
     "name": "stdout",
     "text": [
      "Epoch 18 Summary: Train Loss: 0.3120 | Test Loss: 0.4840 | Test Acc: 84.64%\n",
      "\n",
      "--- Epoch 19/50 ---\n"
     ]
    },
    {
     "output_type": "stream",
     "name": "stderr",
     "text": []
    },
    {
     "output_type": "stream",
     "name": "stdout",
     "text": [
      "新的最佳准确率: 85.03% (优于之前的 85.01%)。正在保存模型...\n",
      "Epoch 19 Summary: Train Loss: 0.2948 | Test Loss: 0.4713 | Test Acc: 85.03%\n",
      "\n",
      "--- Epoch 20/50 ---\n"
     ]
    },
    {
     "output_type": "stream",
     "name": "stderr",
     "text": []
    },
    {
     "output_type": "stream",
     "name": "stdout",
     "text": [
      "新的最佳准确率: 85.39% (优于之前的 85.03%)。正在保存模型...\n",
      "Epoch 20 Summary: Train Loss: 0.2813 | Test Loss: 0.4755 | Test Acc: 85.39%\n",
      "\n",
      "--- Epoch 21/50 ---\n"
     ]
    },
    {
     "output_type": "stream",
     "name": "stderr",
     "text": []
    },
    {
     "output_type": "stream",
     "name": "stdout",
     "text": [
      "新的最佳准确率: 86.19% (优于之前的 85.39%)。正在保存模型...\n",
      "Epoch 21 Summary: Train Loss: 0.2666 | Test Loss: 0.4525 | Test Acc: 86.19%\n",
      "\n",
      "--- Epoch 22/50 ---\n"
     ]
    },
    {
     "output_type": "stream",
     "name": "stderr",
     "text": []
    },
    {
     "output_type": "stream",
     "name": "stdout",
     "text": [
      "Epoch 22 Summary: Train Loss: 0.2610 | Test Loss: 0.4549 | Test Acc: 85.74%\n",
      "\n",
      "--- Epoch 23/50 ---\n"
     ]
    },
    {
     "output_type": "stream",
     "name": "stderr",
     "text": []
    },
    {
     "output_type": "stream",
     "name": "stdout",
     "text": [
      "新的最佳准确率: 86.45% (优于之前的 86.19%)。正在保存模型...\n",
      "Epoch 23 Summary: Train Loss: 0.2519 | Test Loss: 0.4218 | Test Acc: 86.45%\n",
      "\n",
      "--- Epoch 24/50 ---\n"
     ]
    },
    {
     "output_type": "stream",
     "name": "stderr",
     "text": []
    },
    {
     "output_type": "stream",
     "name": "stdout",
     "text": [
      "Epoch 24 Summary: Train Loss: 0.2400 | Test Loss: 0.4527 | Test Acc: 85.99%\n",
      "\n",
      "--- Epoch 25/50 ---\n"
     ]
    },
    {
     "output_type": "stream",
     "name": "stderr",
     "text": []
    },
    {
     "output_type": "stream",
     "name": "stdout",
     "text": [
      "新的最佳准确率: 86.68% (优于之前的 86.45%)。正在保存模型...\n",
      "Epoch 25 Summary: Train Loss: 0.2233 | Test Loss: 0.4197 | Test Acc: 86.68%\n",
      "\n",
      "--- Epoch 26/50 ---\n"
     ]
    },
    {
     "output_type": "stream",
     "name": "stderr",
     "text": []
    },
    {
     "output_type": "stream",
     "name": "stdout",
     "text": [
      "Epoch 26 Summary: Train Loss: 0.2179 | Test Loss: 0.4398 | Test Acc: 86.41%\n",
      "\n",
      "--- Epoch 27/50 ---\n"
     ]
    },
    {
     "output_type": "stream",
     "name": "stderr",
     "text": []
    },
    {
     "output_type": "stream",
     "name": "stdout",
     "text": [
      "Epoch 27 Summary: Train Loss: 0.2076 | Test Loss: 0.4285 | Test Acc: 86.54%\n",
      "\n",
      "--- Epoch 28/50 ---\n"
     ]
    },
    {
     "output_type": "stream",
     "name": "stderr",
     "text": []
    },
    {
     "output_type": "stream",
     "name": "stdout",
     "text": [
      "新的最佳准确率: 87.33% (优于之前的 86.68%)。正在保存模型...\n",
      "Epoch 28 Summary: Train Loss: 0.2008 | Test Loss: 0.4150 | Test Acc: 87.33%\n",
      "\n",
      "--- Epoch 29/50 ---\n"
     ]
    },
    {
     "output_type": "stream",
     "name": "stderr",
     "text": []
    },
    {
     "output_type": "stream",
     "name": "stdout",
     "text": [
      "新的最佳准确率: 87.76% (优于之前的 87.33%)。正在保存模型...\n",
      "Epoch 29 Summary: Train Loss: 0.1906 | Test Loss: 0.4036 | Test Acc: 87.76%\n",
      "\n",
      "--- Epoch 30/50 ---\n"
     ]
    },
    {
     "output_type": "stream",
     "name": "stderr",
     "text": []
    },
    {
     "output_type": "stream",
     "name": "stdout",
     "text": [
      "Epoch 30 Summary: Train Loss: 0.1818 | Test Loss: 0.4183 | Test Acc: 87.49%\n",
      "\n",
      "--- Epoch 31/50 ---\n"
     ]
    },
    {
     "output_type": "stream",
     "name": "stderr",
     "text": []
    },
    {
     "output_type": "stream",
     "name": "stdout",
     "text": [
      "Epoch 31 Summary: Train Loss: 0.1727 | Test Loss: 0.4285 | Test Acc: 87.34%\n",
      "\n",
      "--- Epoch 32/50 ---\n"
     ]
    },
    {
     "output_type": "stream",
     "name": "stderr",
     "text": []
    },
    {
     "output_type": "stream",
     "name": "stdout",
     "text": [
      "Epoch 32 Summary: Train Loss: 0.1646 | Test Loss: 0.4359 | Test Acc: 87.36%\n",
      "\n",
      "--- Epoch 33/50 ---\n"
     ]
    },
    {
     "output_type": "stream",
     "name": "stderr",
     "text": []
    },
    {
     "output_type": "stream",
     "name": "stdout",
     "text": [
      "Epoch 33 Summary: Train Loss: 0.1557 | Test Loss: 0.4076 | Test Acc: 87.75%\n",
      "\n",
      "--- Epoch 34/50 ---\n"
     ]
    },
    {
     "output_type": "stream",
     "name": "stderr",
     "text": []
    },
    {
     "output_type": "stream",
     "name": "stdout",
     "text": [
      "Epoch 34 Summary: Train Loss: 0.1515 | Test Loss: 0.4152 | Test Acc: 87.75%\n",
      "\n",
      "--- Epoch 35/50 ---\n"
     ]
    },
    {
     "output_type": "stream",
     "name": "stderr",
     "text": []
    },
    {
     "output_type": "stream",
     "name": "stdout",
     "text": [
      "新的最佳准确率: 87.79% (优于之前的 87.76%)。正在保存模型...\n",
      "Epoch 35 Summary: Train Loss: 0.1410 | Test Loss: 0.4068 | Test Acc: 87.79%\n",
      "\n",
      "--- Epoch 36/50 ---\n"
     ]
    },
    {
     "output_type": "stream",
     "name": "stderr",
     "text": []
    },
    {
     "output_type": "stream",
     "name": "stdout",
     "text": [
      "新的最佳准确率: 88.31% (优于之前的 87.79%)。正在保存模型...\n",
      "Epoch 36 Summary: Train Loss: 0.1370 | Test Loss: 0.4044 | Test Acc: 88.31%\n",
      "\n",
      "--- Epoch 37/50 ---\n"
     ]
    },
    {
     "output_type": "stream",
     "name": "stderr",
     "text": []
    },
    {
     "output_type": "stream",
     "name": "stdout",
     "text": [
      "Epoch 37 Summary: Train Loss: 0.1292 | Test Loss: 0.4131 | Test Acc: 88.02%\n",
      "\n",
      "--- Epoch 38/50 ---\n"
     ]
    },
    {
     "output_type": "stream",
     "name": "stderr",
     "text": []
    },
    {
     "output_type": "stream",
     "name": "stdout",
     "text": [
      "Epoch 38 Summary: Train Loss: 0.1243 | Test Loss: 0.4043 | Test Acc: 88.18%\n",
      "\n",
      "--- Epoch 39/50 ---\n"
     ]
    },
    {
     "output_type": "stream",
     "name": "stderr",
     "text": []
    },
    {
     "output_type": "stream",
     "name": "stdout",
     "text": [
      "Epoch 39 Summary: Train Loss: 0.1208 | Test Loss: 0.4043 | Test Acc: 88.16%\n",
      "\n",
      "--- Epoch 40/50 ---\n"
     ]
    },
    {
     "output_type": "stream",
     "name": "stderr",
     "text": []
    },
    {
     "output_type": "stream",
     "name": "stdout",
     "text": [
      "Epoch 40 Summary: Train Loss: 0.1174 | Test Loss: 0.4070 | Test Acc: 88.16%\n",
      "\n",
      "--- Epoch 41/50 ---\n"
     ]
    },
    {
     "output_type": "stream",
     "name": "stderr",
     "text": []
    },
    {
     "output_type": "stream",
     "name": "stdout",
     "text": [
      "Epoch 41 Summary: Train Loss: 0.1130 | Test Loss: 0.4017 | Test Acc: 88.23%\n",
      "\n",
      "--- Epoch 42/50 ---\n"
     ]
    },
    {
     "output_type": "stream",
     "name": "stderr",
     "text": []
    },
    {
     "output_type": "stream",
     "name": "stdout",
     "text": [
      "新的最佳准确率: 88.41% (优于之前的 88.31%)。正在保存模型...\n",
      "Epoch 42 Summary: Train Loss: 0.1087 | Test Loss: 0.4063 | Test Acc: 88.41%\n",
      "\n",
      "--- Epoch 43/50 ---\n"
     ]
    },
    {
     "output_type": "stream",
     "name": "stderr",
     "text": []
    },
    {
     "output_type": "stream",
     "name": "stdout",
     "text": [
      "新的最佳准确率: 88.70% (优于之前的 88.41%)。正在保存模型...\n",
      "Epoch 43 Summary: Train Loss: 0.1034 | Test Loss: 0.4031 | Test Acc: 88.70%\n",
      "\n",
      "--- Epoch 44/50 ---\n"
     ]
    },
    {
     "output_type": "stream",
     "name": "stderr",
     "text": []
    },
    {
     "output_type": "stream",
     "name": "stdout",
     "text": [
      "Epoch 44 Summary: Train Loss: 0.1029 | Test Loss: 0.4043 | Test Acc: 88.59%\n",
      "\n",
      "--- Epoch 45/50 ---\n"
     ]
    },
    {
     "output_type": "stream",
     "name": "stderr",
     "text": []
    },
    {
     "output_type": "stream",
     "name": "stdout",
     "text": [
      "Epoch 45 Summary: Train Loss: 0.1011 | Test Loss: 0.4035 | Test Acc: 88.58%\n",
      "\n",
      "--- Epoch 46/50 ---\n"
     ]
    },
    {
     "output_type": "stream",
     "name": "stderr",
     "text": []
    },
    {
     "output_type": "stream",
     "name": "stdout",
     "text": [
      "Epoch 46 Summary: Train Loss: 0.0982 | Test Loss: 0.4021 | Test Acc: 88.56%\n",
      "\n",
      "--- Epoch 47/50 ---\n"
     ]
    },
    {
     "output_type": "stream",
     "name": "stderr",
     "text": []
    },
    {
     "output_type": "stream",
     "name": "stdout",
     "text": [
      "Epoch 47 Summary: Train Loss: 0.0981 | Test Loss: 0.4018 | Test Acc: 88.70%\n",
      "\n",
      "--- Epoch 48/50 ---\n"
     ]
    },
    {
     "output_type": "stream",
     "name": "stderr",
     "text": []
    },
    {
     "output_type": "stream",
     "name": "stdout",
     "text": [
      "Epoch 48 Summary: Train Loss: 0.0978 | Test Loss: 0.4031 | Test Acc: 88.63%\n",
      "\n",
      "--- Epoch 49/50 ---\n"
     ]
    },
    {
     "output_type": "stream",
     "name": "stderr",
     "text": []
    },
    {
     "output_type": "stream",
     "name": "stdout",
     "text": [
      "Epoch 49 Summary: Train Loss: 0.0955 | Test Loss: 0.4052 | Test Acc: 88.58%\n",
      "\n",
      "--- Epoch 50/50 ---\n"
     ]
    },
    {
     "output_type": "stream",
     "name": "stderr",
     "text": []
    },
    {
     "output_type": "stream",
     "name": "stdout",
     "text": [
      "新的最佳准确率: 88.72% (优于之前的 88.70%)。正在保存模型...\n",
      "Epoch 50 Summary: Train Loss: 0.0941 | Test Loss: 0.4015 | Test Acc: 88.72%\n",
      "\n",
      "========================================\n",
      " 实验结束: 2_CustomCNN_Plain_With-BN\n",
      "  -> 最高测试准确率: 88.72%\n",
      "  -> 总训练时间: 20.79 分钟\n",
      "  -> 训练日志已保存到: results/training_logs/2_CustomCNN_Plain_With-BN_log.csv\n",
      "  -> 最终结果已汇总到: results/summary_results.csv\n",
      "========================================\n",
      "\n",
      "\n",
      "========================================\n",
      "开始实验: 3_CustomCNN_Residual_With-BN\n",
      "========================================\n",
      "模型: 3_CustomCNN_Residual_With-BN\n",
      "  -> 参数量 (Params): 0.45 M\n",
      "  -> 计算量 (FLOPs): 0.04 G\n",
      "\n",
      "--- Epoch 1/50 ---\n"
     ]
    },
    {
     "output_type": "stream",
     "name": "stderr",
     "text": []
    },
    {
     "output_type": "stream",
     "name": "stdout",
     "text": [
      "新的最佳准确率: 55.64% (优于之前的 0.00%)。正在保存模型...\n",
      "Epoch 1 Summary: Train Loss: 1.3630 | Test Loss: 1.2440 | Test Acc: 55.64%\n",
      "\n",
      "--- Epoch 2/50 ---\n"
     ]
    },
    {
     "output_type": "stream",
     "name": "stderr",
     "text": []
    },
    {
     "output_type": "stream",
     "name": "stdout",
     "text": [
      "新的最佳准确率: 55.66% (优于之前的 55.64%)。正在保存模型...\n",
      "Epoch 2 Summary: Train Loss: 0.9964 | Test Loss: 1.3916 | Test Acc: 55.66%\n",
      "\n",
      "--- Epoch 3/50 ---\n"
     ]
    },
    {
     "output_type": "stream",
     "name": "stderr",
     "text": []
    },
    {
     "output_type": "stream",
     "name": "stdout",
     "text": [
      "新的最佳准确率: 64.78% (优于之前的 55.66%)。正在保存模型...\n",
      "Epoch 3 Summary: Train Loss: 0.8539 | Test Loss: 1.0511 | Test Acc: 64.78%\n",
      "\n",
      "--- Epoch 4/50 ---\n"
     ]
    },
    {
     "output_type": "stream",
     "name": "stderr",
     "text": []
    },
    {
     "output_type": "stream",
     "name": "stdout",
     "text": [
      "新的最佳准确率: 70.23% (优于之前的 64.78%)。正在保存模型...\n",
      "Epoch 4 Summary: Train Loss: 0.7546 | Test Loss: 0.8970 | Test Acc: 70.23%\n",
      "\n",
      "--- Epoch 5/50 ---\n"
     ]
    },
    {
     "output_type": "stream",
     "name": "stderr",
     "text": []
    },
    {
     "output_type": "stream",
     "name": "stdout",
     "text": [
      "新的最佳准确率: 75.45% (优于之前的 70.23%)。正在保存模型...\n",
      "Epoch 5 Summary: Train Loss: 0.6783 | Test Loss: 0.7144 | Test Acc: 75.45%\n",
      "\n",
      "--- Epoch 6/50 ---\n"
     ]
    },
    {
     "output_type": "stream",
     "name": "stderr",
     "text": []
    },
    {
     "output_type": "stream",
     "name": "stdout",
     "text": [
      "Epoch 6 Summary: Train Loss: 0.6193 | Test Loss: 0.7877 | Test Acc: 73.74%\n",
      "\n",
      "--- Epoch 7/50 ---\n"
     ]
    },
    {
     "output_type": "stream",
     "name": "stderr",
     "text": []
    },
    {
     "output_type": "stream",
     "name": "stdout",
     "text": [
      "新的最佳准确率: 77.84% (优于之前的 75.45%)。正在保存模型...\n",
      "Epoch 7 Summary: Train Loss: 0.5700 | Test Loss: 0.6643 | Test Acc: 77.84%\n",
      "\n",
      "--- Epoch 8/50 ---\n"
     ]
    },
    {
     "output_type": "stream",
     "name": "stderr",
     "text": []
    },
    {
     "output_type": "stream",
     "name": "stdout",
     "text": [
      "新的最佳准确率: 80.06% (优于之前的 77.84%)。正在保存模型...\n",
      "Epoch 8 Summary: Train Loss: 0.5353 | Test Loss: 0.5869 | Test Acc: 80.06%\n",
      "\n",
      "--- Epoch 9/50 ---\n"
     ]
    },
    {
     "output_type": "stream",
     "name": "stderr",
     "text": []
    },
    {
     "output_type": "stream",
     "name": "stdout",
     "text": [
      "Epoch 9 Summary: Train Loss: 0.5021 | Test Loss: 0.6342 | Test Acc: 79.23%\n",
      "\n",
      "--- Epoch 10/50 ---\n"
     ]
    },
    {
     "output_type": "stream",
     "name": "stderr",
     "text": []
    },
    {
     "output_type": "stream",
     "name": "stdout",
     "text": [
      "新的最佳准确率: 81.11% (优于之前的 80.06%)。正在保存模型...\n",
      "Epoch 10 Summary: Train Loss: 0.4728 | Test Loss: 0.5608 | Test Acc: 81.11%\n",
      "\n",
      "--- Epoch 11/50 ---\n"
     ]
    },
    {
     "output_type": "stream",
     "name": "stderr",
     "text": []
    },
    {
     "output_type": "stream",
     "name": "stdout",
     "text": [
      "Epoch 11 Summary: Train Loss: 0.4531 | Test Loss: 0.6135 | Test Acc: 80.29%\n",
      "\n",
      "--- Epoch 12/50 ---\n"
     ]
    },
    {
     "output_type": "stream",
     "name": "stderr",
     "text": []
    },
    {
     "output_type": "stream",
     "name": "stdout",
     "text": [
      "新的最佳准确率: 81.95% (优于之前的 81.11%)。正在保存模型...\n",
      "Epoch 12 Summary: Train Loss: 0.4289 | Test Loss: 0.5396 | Test Acc: 81.95%\n",
      "\n",
      "--- Epoch 13/50 ---\n"
     ]
    },
    {
     "output_type": "stream",
     "name": "stderr",
     "text": []
    },
    {
     "output_type": "stream",
     "name": "stdout",
     "text": [
      "新的最佳准确率: 83.43% (优于之前的 81.95%)。正在保存模型...\n",
      "Epoch 13 Summary: Train Loss: 0.4094 | Test Loss: 0.5065 | Test Acc: 83.43%\n",
      "\n",
      "--- Epoch 14/50 ---\n"
     ]
    },
    {
     "output_type": "stream",
     "name": "stderr",
     "text": []
    },
    {
     "output_type": "stream",
     "name": "stdout",
     "text": [
      "Epoch 14 Summary: Train Loss: 0.3886 | Test Loss: 0.5657 | Test Acc: 81.69%\n",
      "\n",
      "--- Epoch 15/50 ---\n"
     ]
    },
    {
     "output_type": "stream",
     "name": "stderr",
     "text": []
    },
    {
     "output_type": "stream",
     "name": "stdout",
     "text": [
      "新的最佳准确率: 83.70% (优于之前的 83.43%)。正在保存模型...\n",
      "Epoch 15 Summary: Train Loss: 0.3756 | Test Loss: 0.4903 | Test Acc: 83.70%\n",
      "\n",
      "--- Epoch 16/50 ---\n"
     ]
    },
    {
     "output_type": "stream",
     "name": "stderr",
     "text": []
    },
    {
     "output_type": "stream",
     "name": "stdout",
     "text": [
      "新的最佳准确率: 84.32% (优于之前的 83.70%)。正在保存模型...\n",
      "Epoch 16 Summary: Train Loss: 0.3585 | Test Loss: 0.4792 | Test Acc: 84.32%\n",
      "\n",
      "--- Epoch 17/50 ---\n"
     ]
    },
    {
     "output_type": "stream",
     "name": "stderr",
     "text": []
    },
    {
     "output_type": "stream",
     "name": "stdout",
     "text": [
      "Epoch 17 Summary: Train Loss: 0.3429 | Test Loss: 0.5589 | Test Acc: 81.97%\n",
      "\n",
      "--- Epoch 18/50 ---\n"
     ]
    },
    {
     "output_type": "stream",
     "name": "stderr",
     "text": []
    },
    {
     "output_type": "stream",
     "name": "stdout",
     "text": [
      "Epoch 18 Summary: Train Loss: 0.3281 | Test Loss: 0.5287 | Test Acc: 83.39%\n",
      "\n",
      "--- Epoch 19/50 ---\n"
     ]
    },
    {
     "output_type": "stream",
     "name": "stderr",
     "text": []
    },
    {
     "output_type": "stream",
     "name": "stdout",
     "text": [
      "Epoch 19 Summary: Train Loss: 0.3156 | Test Loss: 0.5065 | Test Acc: 83.90%\n",
      "\n",
      "--- Epoch 20/50 ---\n"
     ]
    },
    {
     "output_type": "stream",
     "name": "stderr",
     "text": []
    },
    {
     "output_type": "stream",
     "name": "stdout",
     "text": [
      "新的最佳准确率: 85.98% (优于之前的 84.32%)。正在保存模型...\n",
      "Epoch 20 Summary: Train Loss: 0.3025 | Test Loss: 0.4610 | Test Acc: 85.98%\n",
      "\n",
      "--- Epoch 21/50 ---\n"
     ]
    },
    {
     "output_type": "stream",
     "name": "stderr",
     "text": []
    },
    {
     "output_type": "stream",
     "name": "stdout",
     "text": [
      "Epoch 21 Summary: Train Loss: 0.2883 | Test Loss: 0.4702 | Test Acc: 85.16%\n",
      "\n",
      "--- Epoch 22/50 ---\n"
     ]
    },
    {
     "output_type": "stream",
     "name": "stderr",
     "text": []
    },
    {
     "output_type": "stream",
     "name": "stdout",
     "text": [
      "新的最佳准确率: 86.03% (优于之前的 85.98%)。正在保存模型...\n",
      "Epoch 22 Summary: Train Loss: 0.2741 | Test Loss: 0.4490 | Test Acc: 86.03%\n",
      "\n",
      "--- Epoch 23/50 ---\n"
     ]
    },
    {
     "output_type": "stream",
     "name": "stderr",
     "text": []
    },
    {
     "output_type": "stream",
     "name": "stdout",
     "text": [
      "新的最佳准确率: 86.22% (优于之前的 86.03%)。正在保存模型...\n",
      "Epoch 23 Summary: Train Loss: 0.2647 | Test Loss: 0.4336 | Test Acc: 86.22%\n",
      "\n",
      "--- Epoch 24/50 ---\n"
     ]
    },
    {
     "output_type": "stream",
     "name": "stderr",
     "text": []
    },
    {
     "output_type": "stream",
     "name": "stdout",
     "text": [
      "Epoch 24 Summary: Train Loss: 0.2539 | Test Loss: 0.4896 | Test Acc: 85.25%\n",
      "\n",
      "--- Epoch 25/50 ---\n"
     ]
    },
    {
     "output_type": "stream",
     "name": "stderr",
     "text": []
    },
    {
     "output_type": "stream",
     "name": "stdout",
     "text": [
      "Epoch 25 Summary: Train Loss: 0.2444 | Test Loss: 0.4531 | Test Acc: 86.21%\n",
      "\n",
      "--- Epoch 26/50 ---\n"
     ]
    },
    {
     "output_type": "stream",
     "name": "stderr",
     "text": []
    },
    {
     "output_type": "stream",
     "name": "stdout",
     "text": [
      "新的最佳准确率: 86.75% (优于之前的 86.22%)。正在保存模型...\n",
      "Epoch 26 Summary: Train Loss: 0.2363 | Test Loss: 0.4334 | Test Acc: 86.75%\n",
      "\n",
      "--- Epoch 27/50 ---\n"
     ]
    },
    {
     "output_type": "stream",
     "name": "stderr",
     "text": []
    },
    {
     "output_type": "stream",
     "name": "stdout",
     "text": [
      "新的最佳准确率: 87.19% (优于之前的 86.75%)。正在保存模型...\n",
      "Epoch 27 Summary: Train Loss: 0.2202 | Test Loss: 0.4143 | Test Acc: 87.19%\n",
      "\n",
      "--- Epoch 28/50 ---\n"
     ]
    },
    {
     "output_type": "stream",
     "name": "stderr",
     "text": []
    },
    {
     "output_type": "stream",
     "name": "stdout",
     "text": [
      "Epoch 28 Summary: Train Loss: 0.2150 | Test Loss: 0.4291 | Test Acc: 87.14%\n",
      "\n",
      "--- Epoch 29/50 ---\n"
     ]
    },
    {
     "output_type": "stream",
     "name": "stderr",
     "text": []
    },
    {
     "output_type": "stream",
     "name": "stdout",
     "text": [
      "Epoch 29 Summary: Train Loss: 0.2059 | Test Loss: 0.4265 | Test Acc: 87.11%\n",
      "\n",
      "--- Epoch 30/50 ---\n"
     ]
    },
    {
     "output_type": "stream",
     "name": "stderr",
     "text": []
    },
    {
     "output_type": "stream",
     "name": "stdout",
     "text": [
      "Epoch 30 Summary: Train Loss: 0.1964 | Test Loss: 0.4295 | Test Acc: 87.01%\n",
      "\n",
      "--- Epoch 31/50 ---\n"
     ]
    },
    {
     "output_type": "stream",
     "name": "stderr",
     "text": []
    },
    {
     "output_type": "stream",
     "name": "stdout",
     "text": [
      "新的最佳准确率: 87.43% (优于之前的 87.19%)。正在保存模型...\n",
      "Epoch 31 Summary: Train Loss: 0.1884 | Test Loss: 0.4238 | Test Acc: 87.43%\n",
      "\n",
      "--- Epoch 32/50 ---\n"
     ]
    },
    {
     "output_type": "stream",
     "name": "stderr",
     "text": []
    },
    {
     "output_type": "stream",
     "name": "stdout",
     "text": [
      "Epoch 32 Summary: Train Loss: 0.1781 | Test Loss: 0.4413 | Test Acc: 87.13%\n",
      "\n",
      "--- Epoch 33/50 ---\n"
     ]
    },
    {
     "output_type": "stream",
     "name": "stderr",
     "text": []
    },
    {
     "output_type": "stream",
     "name": "stdout",
     "text": [
      "新的最佳准确率: 87.76% (优于之前的 87.43%)。正在保存模型...\n",
      "Epoch 33 Summary: Train Loss: 0.1646 | Test Loss: 0.4246 | Test Acc: 87.76%\n",
      "\n",
      "--- Epoch 34/50 ---\n"
     ]
    },
    {
     "output_type": "stream",
     "name": "stderr",
     "text": []
    },
    {
     "output_type": "stream",
     "name": "stdout",
     "text": [
      "新的最佳准确率: 87.80% (优于之前的 87.76%)。正在保存模型...\n",
      "Epoch 34 Summary: Train Loss: 0.1625 | Test Loss: 0.4180 | Test Acc: 87.80%\n",
      "\n",
      "--- Epoch 35/50 ---\n"
     ]
    },
    {
     "output_type": "stream",
     "name": "stderr",
     "text": []
    },
    {
     "output_type": "stream",
     "name": "stdout",
     "text": [
      "新的最佳准确率: 87.84% (优于之前的 87.80%)。正在保存模型...\n",
      "Epoch 35 Summary: Train Loss: 0.1578 | Test Loss: 0.4276 | Test Acc: 87.84%\n",
      "\n",
      "--- Epoch 36/50 ---\n"
     ]
    },
    {
     "output_type": "stream",
     "name": "stderr",
     "text": []
    },
    {
     "output_type": "stream",
     "name": "stdout",
     "text": [
      "新的最佳准确率: 88.33% (优于之前的 87.84%)。正在保存模型...\n",
      "Epoch 36 Summary: Train Loss: 0.1510 | Test Loss: 0.4118 | Test Acc: 88.33%\n",
      "\n",
      "--- Epoch 37/50 ---\n"
     ]
    },
    {
     "output_type": "stream",
     "name": "stderr",
     "text": []
    },
    {
     "output_type": "stream",
     "name": "stdout",
     "text": [
      "Epoch 37 Summary: Train Loss: 0.1441 | Test Loss: 0.4147 | Test Acc: 88.03%\n",
      "\n",
      "--- Epoch 38/50 ---\n"
     ]
    },
    {
     "output_type": "stream",
     "name": "stderr",
     "text": []
    },
    {
     "output_type": "stream",
     "name": "stdout",
     "text": [
      "Epoch 38 Summary: Train Loss: 0.1388 | Test Loss: 0.4232 | Test Acc: 87.83%\n",
      "\n",
      "--- Epoch 39/50 ---\n"
     ]
    },
    {
     "output_type": "stream",
     "name": "stderr",
     "text": []
    },
    {
     "output_type": "stream",
     "name": "stdout",
     "text": [
      "Epoch 39 Summary: Train Loss: 0.1323 | Test Loss: 0.4133 | Test Acc: 88.12%\n",
      "\n",
      "--- Epoch 40/50 ---\n"
     ]
    },
    {
     "output_type": "stream",
     "name": "stderr",
     "text": []
    },
    {
     "output_type": "stream",
     "name": "stdout",
     "text": [
      "Epoch 40 Summary: Train Loss: 0.1293 | Test Loss: 0.4103 | Test Acc: 88.33%\n",
      "\n",
      "--- Epoch 41/50 ---\n"
     ]
    },
    {
     "output_type": "stream",
     "name": "stderr",
     "text": []
    },
    {
     "output_type": "stream",
     "name": "stdout",
     "text": [
      "Epoch 41 Summary: Train Loss: 0.1245 | Test Loss: 0.4137 | Test Acc: 88.27%\n",
      "\n",
      "--- Epoch 42/50 ---\n"
     ]
    },
    {
     "output_type": "stream",
     "name": "stderr",
     "text": []
    },
    {
     "output_type": "stream",
     "name": "stdout",
     "text": [
      "Epoch 42 Summary: Train Loss: 0.1200 | Test Loss: 0.4132 | Test Acc: 88.21%\n",
      "\n",
      "--- Epoch 43/50 ---\n"
     ]
    },
    {
     "output_type": "stream",
     "name": "stderr",
     "text": []
    },
    {
     "output_type": "stream",
     "name": "stdout",
     "text": [
      "新的最佳准确率: 88.52% (优于之前的 88.33%)。正在保存模型...\n",
      "Epoch 43 Summary: Train Loss: 0.1201 | Test Loss: 0.4062 | Test Acc: 88.52%\n",
      "\n",
      "--- Epoch 44/50 ---\n"
     ]
    },
    {
     "output_type": "stream",
     "name": "stderr",
     "text": []
    },
    {
     "output_type": "stream",
     "name": "stdout",
     "text": [
      "Epoch 44 Summary: Train Loss: 0.1149 | Test Loss: 0.4115 | Test Acc: 88.17%\n",
      "\n",
      "--- Epoch 45/50 ---\n"
     ]
    },
    {
     "output_type": "stream",
     "name": "stderr",
     "text": []
    },
    {
     "output_type": "stream",
     "name": "stdout",
     "text": [
      "Epoch 45 Summary: Train Loss: 0.1126 | Test Loss: 0.4055 | Test Acc: 88.32%\n",
      "\n",
      "--- Epoch 46/50 ---\n"
     ]
    },
    {
     "output_type": "stream",
     "name": "stderr",
     "text": []
    },
    {
     "output_type": "stream",
     "name": "stdout",
     "text": [
      "Epoch 46 Summary: Train Loss: 0.1117 | Test Loss: 0.4087 | Test Acc: 88.36%\n",
      "\n",
      "--- Epoch 47/50 ---\n"
     ]
    },
    {
     "output_type": "stream",
     "name": "stderr",
     "text": []
    },
    {
     "output_type": "stream",
     "name": "stdout",
     "text": [
      "Epoch 47 Summary: Train Loss: 0.1101 | Test Loss: 0.4076 | Test Acc: 88.36%\n",
      "\n",
      "--- Epoch 48/50 ---\n"
     ]
    },
    {
     "output_type": "stream",
     "name": "stderr",
     "text": []
    },
    {
     "output_type": "stream",
     "name": "stdout",
     "text": [
      "Epoch 48 Summary: Train Loss: 0.1099 | Test Loss: 0.4077 | Test Acc: 88.46%\n",
      "\n",
      "--- Epoch 49/50 ---\n"
     ]
    },
    {
     "output_type": "stream",
     "name": "stderr",
     "text": []
    },
    {
     "output_type": "stream",
     "name": "stdout",
     "text": [
      "Epoch 49 Summary: Train Loss: 0.1093 | Test Loss: 0.4053 | Test Acc: 88.52%\n",
      "\n",
      "--- Epoch 50/50 ---\n"
     ]
    },
    {
     "output_type": "stream",
     "name": "stderr",
     "text": []
    },
    {
     "output_type": "stream",
     "name": "stdout",
     "text": [
      "Epoch 50 Summary: Train Loss: 0.1077 | Test Loss: 0.4087 | Test Acc: 88.36%\n",
      "\n",
      "========================================\n",
      " 实验结束: 3_CustomCNN_Residual_With-BN\n",
      "  -> 最高测试准确率: 88.52%\n",
      "  -> 总训练时间: 20.68 分钟\n",
      "  -> 训练日志已保存到: results/training_logs/3_CustomCNN_Residual_With-BN_log.csv\n",
      "  -> 最终结果已汇总到: results/summary_results.csv\n",
      "========================================\n",
      "\n",
      "\n",
      "========================================\n",
      "开始实验: 4_PlainNet-18\n",
      "========================================\n",
      "模型: 4_PlainNet-18\n",
      "  -> 参数量 (Params): 11.00 M\n",
      "  -> 计算量 (FLOPs): 0.55 G\n",
      "\n",
      "--- Epoch 1/50 ---\n"
     ]
    },
    {
     "output_type": "stream",
     "name": "stderr",
     "text": []
    },
    {
     "output_type": "stream",
     "name": "stdout",
     "text": [
      "新的最佳准确率: 42.26% (优于之前的 0.00%)。正在保存模型...\n",
      "Epoch 1 Summary: Train Loss: 1.6378 | Test Loss: 1.6694 | Test Acc: 42.26%\n",
      "\n",
      "--- Epoch 2/50 ---\n"
     ]
    },
    {
     "output_type": "stream",
     "name": "stderr",
     "text": []
    },
    {
     "output_type": "stream",
     "name": "stdout",
     "text": [
      "新的最佳准确率: 59.19% (优于之前的 42.26%)。正在保存模型...\n",
      "Epoch 2 Summary: Train Loss: 1.2309 | Test Loss: 1.2241 | Test Acc: 59.19%\n",
      "\n",
      "--- Epoch 3/50 ---\n"
     ]
    },
    {
     "output_type": "stream",
     "name": "stderr",
     "text": []
    },
    {
     "output_type": "stream",
     "name": "stdout",
     "text": [
      "新的最佳准确率: 59.93% (优于之前的 59.19%)。正在保存模型...\n",
      "Epoch 3 Summary: Train Loss: 0.9954 | Test Loss: 1.1946 | Test Acc: 59.93%\n",
      "\n",
      "--- Epoch 4/50 ---\n"
     ]
    },
    {
     "output_type": "stream",
     "name": "stderr",
     "text": []
    },
    {
     "output_type": "stream",
     "name": "stdout",
     "text": [
      "新的最佳准确率: 68.73% (优于之前的 59.93%)。正在保存模型...\n",
      "Epoch 4 Summary: Train Loss: 0.8391 | Test Loss: 0.9007 | Test Acc: 68.73%\n",
      "\n",
      "--- Epoch 5/50 ---\n"
     ]
    },
    {
     "output_type": "stream",
     "name": "stderr",
     "text": []
    },
    {
     "output_type": "stream",
     "name": "stdout",
     "text": [
      "新的最佳准确率: 71.00% (优于之前的 68.73%)。正在保存模型...\n",
      "Epoch 5 Summary: Train Loss: 0.7331 | Test Loss: 0.8856 | Test Acc: 71.00%\n",
      "\n",
      "--- Epoch 6/50 ---\n"
     ]
    },
    {
     "output_type": "stream",
     "name": "stderr",
     "text": []
    },
    {
     "output_type": "stream",
     "name": "stdout",
     "text": [
      "新的最佳准确率: 77.79% (优于之前的 71.00%)。正在保存模型...\n",
      "Epoch 6 Summary: Train Loss: 0.6347 | Test Loss: 0.6631 | Test Acc: 77.79%\n",
      "\n",
      "--- Epoch 7/50 ---\n"
     ]
    },
    {
     "output_type": "stream",
     "name": "stderr",
     "text": []
    },
    {
     "output_type": "stream",
     "name": "stdout",
     "text": [
      "新的最佳准确率: 78.99% (优于之前的 77.79%)。正在保存模型...\n",
      "Epoch 7 Summary: Train Loss: 0.5710 | Test Loss: 0.6102 | Test Acc: 78.99%\n",
      "\n",
      "--- Epoch 8/50 ---\n"
     ]
    },
    {
     "output_type": "stream",
     "name": "stderr",
     "text": []
    },
    {
     "output_type": "stream",
     "name": "stdout",
     "text": [
      "新的最佳准确率: 81.56% (优于之前的 78.99%)。正在保存模型...\n",
      "Epoch 8 Summary: Train Loss: 0.5201 | Test Loss: 0.5502 | Test Acc: 81.56%\n",
      "\n",
      "--- Epoch 9/50 ---\n"
     ]
    },
    {
     "output_type": "stream",
     "name": "stderr",
     "text": []
    },
    {
     "output_type": "stream",
     "name": "stdout",
     "text": [
      "新的最佳准确率: 81.71% (优于之前的 81.56%)。正在保存模型...\n",
      "Epoch 9 Summary: Train Loss: 0.4733 | Test Loss: 0.5452 | Test Acc: 81.71%\n",
      "\n",
      "--- Epoch 10/50 ---\n"
     ]
    },
    {
     "output_type": "stream",
     "name": "stderr",
     "text": []
    },
    {
     "output_type": "stream",
     "name": "stdout",
     "text": [
      "新的最佳准确率: 84.17% (优于之前的 81.71%)。正在保存模型...\n",
      "Epoch 10 Summary: Train Loss: 0.4394 | Test Loss: 0.4714 | Test Acc: 84.17%\n",
      "\n",
      "--- Epoch 11/50 ---\n"
     ]
    },
    {
     "output_type": "stream",
     "name": "stderr",
     "text": []
    },
    {
     "output_type": "stream",
     "name": "stdout",
     "text": [
      "Epoch 11 Summary: Train Loss: 0.4007 | Test Loss: 0.4990 | Test Acc: 83.67%\n",
      "\n",
      "--- Epoch 12/50 ---\n"
     ]
    },
    {
     "output_type": "stream",
     "name": "stderr",
     "text": []
    },
    {
     "output_type": "stream",
     "name": "stdout",
     "text": [
      "新的最佳准确率: 84.85% (优于之前的 84.17%)。正在保存模型...\n",
      "Epoch 12 Summary: Train Loss: 0.3810 | Test Loss: 0.4536 | Test Acc: 84.85%\n",
      "\n",
      "--- Epoch 13/50 ---\n"
     ]
    },
    {
     "output_type": "stream",
     "name": "stderr",
     "text": []
    },
    {
     "output_type": "stream",
     "name": "stdout",
     "text": [
      "Epoch 13 Summary: Train Loss: 0.3495 | Test Loss: 0.4889 | Test Acc: 84.42%\n",
      "\n",
      "--- Epoch 14/50 ---\n"
     ]
    },
    {
     "output_type": "stream",
     "name": "stderr",
     "text": []
    },
    {
     "output_type": "stream",
     "name": "stdout",
     "text": [
      "新的最佳准确率: 86.49% (优于之前的 84.85%)。正在保存模型...\n",
      "Epoch 14 Summary: Train Loss: 0.3202 | Test Loss: 0.4034 | Test Acc: 86.49%\n",
      "\n",
      "--- Epoch 15/50 ---\n"
     ]
    },
    {
     "output_type": "stream",
     "name": "stderr",
     "text": []
    },
    {
     "output_type": "stream",
     "name": "stdout",
     "text": [
      "Epoch 15 Summary: Train Loss: 0.2988 | Test Loss: 0.3922 | Test Acc: 86.49%\n",
      "\n",
      "--- Epoch 16/50 ---\n"
     ]
    },
    {
     "output_type": "stream",
     "name": "stderr",
     "text": []
    },
    {
     "output_type": "stream",
     "name": "stdout",
     "text": [
      "新的最佳准确率: 87.35% (优于之前的 86.49%)。正在保存模型...\n",
      "Epoch 16 Summary: Train Loss: 0.2784 | Test Loss: 0.3849 | Test Acc: 87.35%\n",
      "\n",
      "--- Epoch 17/50 ---\n"
     ]
    },
    {
     "output_type": "stream",
     "name": "stderr",
     "text": []
    },
    {
     "output_type": "stream",
     "name": "stdout",
     "text": [
      "新的最佳准确率: 87.64% (优于之前的 87.35%)。正在保存模型...\n",
      "Epoch 17 Summary: Train Loss: 0.2605 | Test Loss: 0.3761 | Test Acc: 87.64%\n",
      "\n",
      "--- Epoch 18/50 ---\n"
     ]
    },
    {
     "output_type": "stream",
     "name": "stderr",
     "text": []
    },
    {
     "output_type": "stream",
     "name": "stdout",
     "text": [
      "新的最佳准确率: 88.60% (优于之前的 87.64%)。正在保存模型...\n",
      "Epoch 18 Summary: Train Loss: 0.2452 | Test Loss: 0.3611 | Test Acc: 88.60%\n",
      "\n",
      "--- Epoch 19/50 ---\n"
     ]
    },
    {
     "output_type": "stream",
     "name": "stderr",
     "text": []
    },
    {
     "output_type": "stream",
     "name": "stdout",
     "text": [
      "Epoch 19 Summary: Train Loss: 0.2244 | Test Loss: 0.3948 | Test Acc: 87.67%\n",
      "\n",
      "--- Epoch 20/50 ---\n"
     ]
    },
    {
     "output_type": "stream",
     "name": "stderr",
     "text": []
    },
    {
     "output_type": "stream",
     "name": "stdout",
     "text": [
      "Epoch 20 Summary: Train Loss: 0.2063 | Test Loss: 0.3621 | Test Acc: 88.46%\n",
      "\n",
      "--- Epoch 21/50 ---\n"
     ]
    },
    {
     "output_type": "stream",
     "name": "stderr",
     "text": []
    },
    {
     "output_type": "stream",
     "name": "stdout",
     "text": [
      "Epoch 21 Summary: Train Loss: 0.1912 | Test Loss: 0.3904 | Test Acc: 88.02%\n",
      "\n",
      "--- Epoch 22/50 ---\n"
     ]
    },
    {
     "output_type": "stream",
     "name": "stderr",
     "text": []
    },
    {
     "output_type": "stream",
     "name": "stdout",
     "text": [
      "Epoch 22 Summary: Train Loss: 0.1775 | Test Loss: 0.3912 | Test Acc: 88.35%\n",
      "\n",
      "--- Epoch 23/50 ---\n"
     ]
    },
    {
     "output_type": "stream",
     "name": "stderr",
     "text": []
    },
    {
     "output_type": "stream",
     "name": "stdout",
     "text": [
      "Epoch 23 Summary: Train Loss: 0.1647 | Test Loss: 0.3964 | Test Acc: 88.48%\n",
      "\n",
      "--- Epoch 24/50 ---\n"
     ]
    },
    {
     "output_type": "stream",
     "name": "stderr",
     "text": []
    },
    {
     "output_type": "stream",
     "name": "stdout",
     "text": [
      "新的最佳准确率: 89.09% (优于之前的 88.60%)。正在保存模型...\n",
      "Epoch 24 Summary: Train Loss: 0.1509 | Test Loss: 0.3612 | Test Acc: 89.09%\n",
      "\n",
      "--- Epoch 25/50 ---\n"
     ]
    },
    {
     "output_type": "stream",
     "name": "stderr",
     "text": []
    },
    {
     "output_type": "stream",
     "name": "stdout",
     "text": [
      "新的最佳准确率: 89.75% (优于之前的 89.09%)。正在保存模型...\n",
      "Epoch 25 Summary: Train Loss: 0.1399 | Test Loss: 0.3555 | Test Acc: 89.75%\n",
      "\n",
      "--- Epoch 26/50 ---\n"
     ]
    },
    {
     "output_type": "stream",
     "name": "stderr",
     "text": []
    },
    {
     "output_type": "stream",
     "name": "stdout",
     "text": [
      "新的最佳准确率: 90.06% (优于之前的 89.75%)。正在保存模型...\n",
      "Epoch 26 Summary: Train Loss: 0.1233 | Test Loss: 0.3511 | Test Acc: 90.06%\n",
      "\n",
      "--- Epoch 27/50 ---\n"
     ]
    },
    {
     "output_type": "stream",
     "name": "stderr",
     "text": []
    },
    {
     "output_type": "stream",
     "name": "stdout",
     "text": [
      "Epoch 27 Summary: Train Loss: 0.1120 | Test Loss: 0.3725 | Test Acc: 89.87%\n",
      "\n",
      "--- Epoch 28/50 ---\n"
     ]
    },
    {
     "output_type": "stream",
     "name": "stderr",
     "text": []
    },
    {
     "output_type": "stream",
     "name": "stdout",
     "text": [
      "新的最佳准确率: 90.57% (优于之前的 90.06%)。正在保存模型...\n",
      "Epoch 28 Summary: Train Loss: 0.1057 | Test Loss: 0.3397 | Test Acc: 90.57%\n",
      "\n",
      "--- Epoch 29/50 ---\n"
     ]
    },
    {
     "output_type": "stream",
     "name": "stderr",
     "text": []
    },
    {
     "output_type": "stream",
     "name": "stdout",
     "text": [
      "新的最佳准确率: 90.61% (优于之前的 90.57%)。正在保存模型...\n",
      "Epoch 29 Summary: Train Loss: 0.0895 | Test Loss: 0.3659 | Test Acc: 90.61%\n",
      "\n",
      "--- Epoch 30/50 ---\n"
     ]
    },
    {
     "output_type": "stream",
     "name": "stderr",
     "text": []
    },
    {
     "output_type": "stream",
     "name": "stdout",
     "text": [
      "Epoch 30 Summary: Train Loss: 0.0811 | Test Loss: 0.3730 | Test Acc: 90.05%\n",
      "\n",
      "--- Epoch 31/50 ---\n"
     ]
    },
    {
     "output_type": "stream",
     "name": "stderr",
     "text": []
    },
    {
     "output_type": "stream",
     "name": "stdout",
     "text": [
      "Epoch 31 Summary: Train Loss: 0.0749 | Test Loss: 0.3787 | Test Acc: 90.53%\n",
      "\n",
      "--- Epoch 32/50 ---\n"
     ]
    },
    {
     "output_type": "stream",
     "name": "stderr",
     "text": []
    },
    {
     "output_type": "stream",
     "name": "stdout",
     "text": [
      "新的最佳准确率: 91.25% (优于之前的 90.61%)。正在保存模型...\n",
      "Epoch 32 Summary: Train Loss: 0.0672 | Test Loss: 0.3489 | Test Acc: 91.25%\n",
      "\n",
      "--- Epoch 33/50 ---\n"
     ]
    },
    {
     "output_type": "stream",
     "name": "stderr",
     "text": []
    },
    {
     "output_type": "stream",
     "name": "stdout",
     "text": [
      "Epoch 33 Summary: Train Loss: 0.0589 | Test Loss: 0.4076 | Test Acc: 90.60%\n",
      "\n",
      "--- Epoch 34/50 ---\n"
     ]
    },
    {
     "output_type": "stream",
     "name": "stderr",
     "text": []
    },
    {
     "output_type": "stream",
     "name": "stdout",
     "text": [
      "新的最佳准确率: 91.51% (优于之前的 91.25%)。正在保存模型...\n",
      "Epoch 34 Summary: Train Loss: 0.0519 | Test Loss: 0.3689 | Test Acc: 91.51%\n",
      "\n",
      "--- Epoch 35/50 ---\n"
     ]
    },
    {
     "output_type": "stream",
     "name": "stderr",
     "text": []
    },
    {
     "output_type": "stream",
     "name": "stdout",
     "text": [
      "Epoch 35 Summary: Train Loss: 0.0468 | Test Loss: 0.3927 | Test Acc: 91.07%\n",
      "\n",
      "--- Epoch 36/50 ---\n"
     ]
    },
    {
     "output_type": "stream",
     "name": "stderr",
     "text": []
    },
    {
     "output_type": "stream",
     "name": "stdout",
     "text": [
      "Epoch 36 Summary: Train Loss: 0.0390 | Test Loss: 0.3817 | Test Acc: 91.45%\n",
      "\n",
      "--- Epoch 37/50 ---\n"
     ]
    },
    {
     "output_type": "stream",
     "name": "stderr",
     "text": []
    },
    {
     "output_type": "stream",
     "name": "stdout",
     "text": [
      "Epoch 37 Summary: Train Loss: 0.0330 | Test Loss: 0.3906 | Test Acc: 91.42%\n",
      "\n",
      "--- Epoch 38/50 ---\n"
     ]
    },
    {
     "output_type": "stream",
     "name": "stderr",
     "text": []
    },
    {
     "output_type": "stream",
     "name": "stdout",
     "text": [
      "新的最佳准确率: 91.74% (优于之前的 91.51%)。正在保存模型...\n",
      "Epoch 38 Summary: Train Loss: 0.0297 | Test Loss: 0.3926 | Test Acc: 91.74%\n",
      "\n",
      "--- Epoch 39/50 ---\n"
     ]
    },
    {
     "output_type": "stream",
     "name": "stderr",
     "text": []
    },
    {
     "output_type": "stream",
     "name": "stdout",
     "text": [
      "新的最佳准确率: 91.79% (优于之前的 91.74%)。正在保存模型...\n",
      "Epoch 39 Summary: Train Loss: 0.0239 | Test Loss: 0.3826 | Test Acc: 91.79%\n",
      "\n",
      "--- Epoch 40/50 ---\n"
     ]
    },
    {
     "output_type": "stream",
     "name": "stderr",
     "text": []
    },
    {
     "output_type": "stream",
     "name": "stdout",
     "text": [
      "新的最佳准确率: 91.88% (优于之前的 91.79%)。正在保存模型...\n",
      "Epoch 40 Summary: Train Loss: 0.0213 | Test Loss: 0.4009 | Test Acc: 91.88%\n",
      "\n",
      "--- Epoch 41/50 ---\n"
     ]
    },
    {
     "output_type": "stream",
     "name": "stderr",
     "text": []
    },
    {
     "output_type": "stream",
     "name": "stdout",
     "text": [
      "新的最佳准确率: 91.99% (优于之前的 91.88%)。正在保存模型...\n",
      "Epoch 41 Summary: Train Loss: 0.0181 | Test Loss: 0.4016 | Test Acc: 91.99%\n",
      "\n",
      "--- Epoch 42/50 ---\n"
     ]
    },
    {
     "output_type": "stream",
     "name": "stderr",
     "text": []
    },
    {
     "output_type": "stream",
     "name": "stdout",
     "text": [
      "新的最佳准确率: 92.07% (优于之前的 91.99%)。正在保存模型...\n",
      "Epoch 42 Summary: Train Loss: 0.0166 | Test Loss: 0.4022 | Test Acc: 92.07%\n",
      "\n",
      "--- Epoch 43/50 ---\n"
     ]
    },
    {
     "output_type": "stream",
     "name": "stderr",
     "text": []
    },
    {
     "output_type": "stream",
     "name": "stdout",
     "text": [
      "新的最佳准确率: 92.23% (优于之前的 92.07%)。正在保存模型...\n",
      "Epoch 43 Summary: Train Loss: 0.0151 | Test Loss: 0.4075 | Test Acc: 92.23%\n",
      "\n",
      "--- Epoch 44/50 ---\n"
     ]
    },
    {
     "output_type": "stream",
     "name": "stderr",
     "text": []
    },
    {
     "output_type": "stream",
     "name": "stdout",
     "text": [
      "Epoch 44 Summary: Train Loss: 0.0133 | Test Loss: 0.4123 | Test Acc: 92.08%\n",
      "\n",
      "--- Epoch 45/50 ---\n"
     ]
    },
    {
     "output_type": "stream",
     "name": "stderr",
     "text": []
    },
    {
     "output_type": "stream",
     "name": "stdout",
     "text": [
      "新的最佳准确率: 92.25% (优于之前的 92.23%)。正在保存模型...\n",
      "Epoch 45 Summary: Train Loss: 0.0116 | Test Loss: 0.4143 | Test Acc: 92.25%\n",
      "\n",
      "--- Epoch 46/50 ---\n"
     ]
    },
    {
     "output_type": "stream",
     "name": "stderr",
     "text": []
    },
    {
     "output_type": "stream",
     "name": "stdout",
     "text": [
      "Epoch 46 Summary: Train Loss: 0.0103 | Test Loss: 0.4155 | Test Acc: 92.19%\n",
      "\n",
      "--- Epoch 47/50 ---\n"
     ]
    },
    {
     "output_type": "stream",
     "name": "stderr",
     "text": []
    },
    {
     "output_type": "stream",
     "name": "stdout",
     "text": [
      "Epoch 47 Summary: Train Loss: 0.0105 | Test Loss: 0.4152 | Test Acc: 92.17%\n",
      "\n",
      "--- Epoch 48/50 ---\n"
     ]
    },
    {
     "output_type": "stream",
     "name": "stderr",
     "text": []
    },
    {
     "output_type": "stream",
     "name": "stdout",
     "text": [
      "新的最佳准确率: 92.31% (优于之前的 92.25%)。正在保存模型...\n",
      "Epoch 48 Summary: Train Loss: 0.0100 | Test Loss: 0.4112 | Test Acc: 92.31%\n",
      "\n",
      "--- Epoch 49/50 ---\n"
     ]
    },
    {
     "output_type": "stream",
     "name": "stderr",
     "text": []
    },
    {
     "output_type": "stream",
     "name": "stdout",
     "text": [
      "Epoch 49 Summary: Train Loss: 0.0101 | Test Loss: 0.4156 | Test Acc: 92.25%\n",
      "\n",
      "--- Epoch 50/50 ---\n"
     ]
    },
    {
     "output_type": "stream",
     "name": "stderr",
     "text": []
    },
    {
     "output_type": "stream",
     "name": "stdout",
     "text": [
      "Epoch 50 Summary: Train Loss: 0.0085 | Test Loss: 0.4120 | Test Acc: 92.29%\n",
      "\n",
      "========================================\n",
      " 实验结束: 4_PlainNet-18\n",
      "  -> 最高测试准确率: 92.31%\n",
      "  -> 总训练时间: 37.20 分钟\n",
      "  -> 训练日志已保存到: results/training_logs/4_PlainNet-18_log.csv\n",
      "  -> 最终结果已汇总到: results/summary_results.csv\n",
      "========================================\n",
      "\n",
      "\n",
      "========================================\n",
      "开始实验: 5_ResNet-18_Standard\n",
      "========================================\n",
      "模型: 5_ResNet-18_Standard\n",
      "  -> 参数量 (Params): 11.17 M\n",
      "  -> 计算量 (FLOPs): 0.56 G\n",
      "\n",
      "--- Epoch 1/50 ---\n"
     ]
    },
    {
     "output_type": "stream",
     "name": "stderr",
     "text": []
    },
    {
     "output_type": "stream",
     "name": "stdout",
     "text": [
      "新的最佳准确率: 55.34% (优于之前的 0.00%)。正在保存模型...\n",
      "Epoch 1 Summary: Train Loss: 1.4616 | Test Loss: 1.2252 | Test Acc: 55.34%\n",
      "\n",
      "--- Epoch 2/50 ---\n"
     ]
    },
    {
     "output_type": "stream",
     "name": "stderr",
     "text": []
    },
    {
     "output_type": "stream",
     "name": "stdout",
     "text": [
      "新的最佳准确率: 67.28% (优于之前的 55.34%)。正在保存模型...\n",
      "Epoch 2 Summary: Train Loss: 0.9844 | Test Loss: 0.9221 | Test Acc: 67.28%\n",
      "\n",
      "--- Epoch 3/50 ---\n"
     ]
    },
    {
     "output_type": "stream",
     "name": "stderr",
     "text": []
    },
    {
     "output_type": "stream",
     "name": "stdout",
     "text": [
      "新的最佳准确率: 71.37% (优于之前的 67.28%)。正在保存模型...\n",
      "Epoch 3 Summary: Train Loss: 0.7888 | Test Loss: 0.8504 | Test Acc: 71.37%\n",
      "\n",
      "--- Epoch 4/50 ---\n"
     ]
    },
    {
     "output_type": "stream",
     "name": "stderr",
     "text": []
    },
    {
     "output_type": "stream",
     "name": "stdout",
     "text": [
      "新的最佳准确率: 76.17% (优于之前的 71.37%)。正在保存模型...\n",
      "Epoch 4 Summary: Train Loss: 0.6490 | Test Loss: 0.7414 | Test Acc: 76.17%\n",
      "\n",
      "--- Epoch 5/50 ---\n"
     ]
    },
    {
     "output_type": "stream",
     "name": "stderr",
     "text": []
    },
    {
     "output_type": "stream",
     "name": "stdout",
     "text": [
      "新的最佳准确率: 79.95% (优于之前的 76.17%)。正在保存模型...\n",
      "Epoch 5 Summary: Train Loss: 0.5598 | Test Loss: 0.6032 | Test Acc: 79.95%\n",
      "\n",
      "--- Epoch 6/50 ---\n"
     ]
    },
    {
     "output_type": "stream",
     "name": "stderr",
     "text": []
    },
    {
     "output_type": "stream",
     "name": "stdout",
     "text": [
      "新的最佳准确率: 80.60% (优于之前的 79.95%)。正在保存模型...\n",
      "Epoch 6 Summary: Train Loss: 0.4955 | Test Loss: 0.5760 | Test Acc: 80.60%\n",
      "\n",
      "--- Epoch 7/50 ---\n"
     ]
    },
    {
     "output_type": "stream",
     "name": "stderr",
     "text": []
    },
    {
     "output_type": "stream",
     "name": "stdout",
     "text": [
      "新的最佳准确率: 83.82% (优于之前的 80.60%)。正在保存模型...\n",
      "Epoch 7 Summary: Train Loss: 0.4440 | Test Loss: 0.4875 | Test Acc: 83.82%\n",
      "\n",
      "--- Epoch 8/50 ---\n"
     ]
    },
    {
     "output_type": "stream",
     "name": "stderr",
     "text": []
    },
    {
     "output_type": "stream",
     "name": "stdout",
     "text": [
      "新的最佳准确率: 84.46% (优于之前的 83.82%)。正在保存模型...\n",
      "Epoch 8 Summary: Train Loss: 0.3994 | Test Loss: 0.4707 | Test Acc: 84.46%\n",
      "\n",
      "--- Epoch 9/50 ---\n"
     ]
    },
    {
     "output_type": "stream",
     "name": "stderr",
     "text": []
    },
    {
     "output_type": "stream",
     "name": "stdout",
     "text": [
      "新的最佳准确率: 85.96% (优于之前的 84.46%)。正在保存模型...\n",
      "Epoch 9 Summary: Train Loss: 0.3632 | Test Loss: 0.4432 | Test Acc: 85.96%\n",
      "\n",
      "--- Epoch 10/50 ---\n"
     ]
    },
    {
     "output_type": "stream",
     "name": "stderr",
     "text": []
    },
    {
     "output_type": "stream",
     "name": "stdout",
     "text": [
      "Epoch 10 Summary: Train Loss: 0.3294 | Test Loss: 0.5408 | Test Acc: 82.97%\n",
      "\n",
      "--- Epoch 11/50 ---\n"
     ]
    },
    {
     "output_type": "stream",
     "name": "stderr",
     "text": []
    },
    {
     "output_type": "stream",
     "name": "stdout",
     "text": [
      "新的最佳准确率: 86.68% (优于之前的 85.96%)。正在保存模型...\n",
      "Epoch 11 Summary: Train Loss: 0.3006 | Test Loss: 0.4178 | Test Acc: 86.68%\n",
      "\n",
      "--- Epoch 12/50 ---\n"
     ]
    },
    {
     "output_type": "stream",
     "name": "stderr",
     "text": []
    },
    {
     "output_type": "stream",
     "name": "stdout",
     "text": [
      "新的最佳准确率: 87.67% (优于之前的 86.68%)。正在保存模型...\n",
      "Epoch 12 Summary: Train Loss: 0.2785 | Test Loss: 0.3988 | Test Acc: 87.67%\n",
      "\n",
      "--- Epoch 13/50 ---\n"
     ]
    },
    {
     "output_type": "stream",
     "name": "stderr",
     "text": []
    },
    {
     "output_type": "stream",
     "name": "stdout",
     "text": [
      "Epoch 13 Summary: Train Loss: 0.2632 | Test Loss: 0.3982 | Test Acc: 87.21%\n",
      "\n",
      "--- Epoch 14/50 ---\n"
     ]
    },
    {
     "output_type": "stream",
     "name": "stderr",
     "text": []
    },
    {
     "output_type": "stream",
     "name": "stdout",
     "text": [
      "新的最佳准确率: 88.12% (优于之前的 87.67%)。正在保存模型...\n",
      "Epoch 14 Summary: Train Loss: 0.2351 | Test Loss: 0.3922 | Test Acc: 88.12%\n",
      "\n",
      "--- Epoch 15/50 ---\n"
     ]
    },
    {
     "output_type": "stream",
     "name": "stderr",
     "text": []
    },
    {
     "output_type": "stream",
     "name": "stdout",
     "text": [
      "Epoch 15 Summary: Train Loss: 0.2136 | Test Loss: 0.3916 | Test Acc: 88.03%\n",
      "\n",
      "--- Epoch 16/50 ---\n"
     ]
    },
    {
     "output_type": "stream",
     "name": "stderr",
     "text": []
    },
    {
     "output_type": "stream",
     "name": "stdout",
     "text": [
      "Epoch 16 Summary: Train Loss: 0.2008 | Test Loss: 0.3893 | Test Acc: 87.78%\n",
      "\n",
      "--- Epoch 17/50 ---\n"
     ]
    },
    {
     "output_type": "stream",
     "name": "stderr",
     "text": []
    },
    {
     "output_type": "stream",
     "name": "stdout",
     "text": [
      "新的最佳准确率: 89.69% (优于之前的 88.12%)。正在保存模型...\n",
      "Epoch 17 Summary: Train Loss: 0.1757 | Test Loss: 0.3405 | Test Acc: 89.69%\n",
      "\n",
      "--- Epoch 18/50 ---\n"
     ]
    },
    {
     "output_type": "stream",
     "name": "stderr",
     "text": []
    },
    {
     "output_type": "stream",
     "name": "stdout",
     "text": [
      "新的最佳准确率: 90.01% (优于之前的 89.69%)。正在保存模型...\n",
      "Epoch 18 Summary: Train Loss: 0.1633 | Test Loss: 0.3449 | Test Acc: 90.01%\n",
      "\n",
      "--- Epoch 19/50 ---\n"
     ]
    },
    {
     "output_type": "stream",
     "name": "stderr",
     "text": []
    },
    {
     "output_type": "stream",
     "name": "stdout",
     "text": [
      "新的最佳准确率: 90.21% (优于之前的 90.01%)。正在保存模型...\n",
      "Epoch 19 Summary: Train Loss: 0.1478 | Test Loss: 0.3522 | Test Acc: 90.21%\n",
      "\n",
      "--- Epoch 20/50 ---\n"
     ]
    },
    {
     "output_type": "stream",
     "name": "stderr",
     "text": []
    },
    {
     "output_type": "stream",
     "name": "stdout",
     "text": [
      "Epoch 20 Summary: Train Loss: 0.1367 | Test Loss: 0.3836 | Test Acc: 89.26%\n",
      "\n",
      "--- Epoch 21/50 ---\n"
     ]
    },
    {
     "output_type": "stream",
     "name": "stderr",
     "text": []
    },
    {
     "output_type": "stream",
     "name": "stdout",
     "text": [
      "Epoch 21 Summary: Train Loss: 0.1238 | Test Loss: 0.3642 | Test Acc: 89.80%\n",
      "\n",
      "--- Epoch 22/50 ---\n"
     ]
    },
    {
     "output_type": "stream",
     "name": "stderr",
     "text": []
    },
    {
     "output_type": "stream",
     "name": "stdout",
     "text": [
      "新的最佳准确率: 90.81% (优于之前的 90.21%)。正在保存模型...\n",
      "Epoch 22 Summary: Train Loss: 0.1107 | Test Loss: 0.3408 | Test Acc: 90.81%\n",
      "\n",
      "--- Epoch 23/50 ---\n"
     ]
    },
    {
     "output_type": "stream",
     "name": "stderr",
     "text": []
    },
    {
     "output_type": "stream",
     "name": "stdout",
     "text": [
      "新的最佳准确率: 90.89% (优于之前的 90.81%)。正在保存模型...\n",
      "Epoch 23 Summary: Train Loss: 0.0998 | Test Loss: 0.3356 | Test Acc: 90.89%\n",
      "\n",
      "--- Epoch 24/50 ---\n"
     ]
    },
    {
     "output_type": "stream",
     "name": "stderr",
     "text": []
    },
    {
     "output_type": "stream",
     "name": "stdout",
     "text": [
      "Epoch 24 Summary: Train Loss: 0.0898 | Test Loss: 0.3636 | Test Acc: 90.62%\n",
      "\n",
      "--- Epoch 25/50 ---\n"
     ]
    },
    {
     "output_type": "stream",
     "name": "stderr",
     "text": []
    },
    {
     "output_type": "stream",
     "name": "stdout",
     "text": [
      "Epoch 25 Summary: Train Loss: 0.0856 | Test Loss: 0.3657 | Test Acc: 90.40%\n",
      "\n",
      "--- Epoch 26/50 ---\n"
     ]
    },
    {
     "output_type": "stream",
     "name": "stderr",
     "text": []
    },
    {
     "output_type": "stream",
     "name": "stdout",
     "text": [
      "Epoch 26 Summary: Train Loss: 0.0680 | Test Loss: 0.3938 | Test Acc: 90.50%\n",
      "\n",
      "--- Epoch 27/50 ---\n"
     ]
    },
    {
     "output_type": "stream",
     "name": "stderr",
     "text": []
    },
    {
     "output_type": "stream",
     "name": "stdout",
     "text": [
      "新的最佳准确率: 91.24% (优于之前的 90.89%)。正在保存模型...\n",
      "Epoch 27 Summary: Train Loss: 0.0647 | Test Loss: 0.3696 | Test Acc: 91.24%\n",
      "\n",
      "--- Epoch 28/50 ---\n"
     ]
    },
    {
     "output_type": "stream",
     "name": "stderr",
     "text": []
    },
    {
     "output_type": "stream",
     "name": "stdout",
     "text": [
      "Epoch 28 Summary: Train Loss: 0.0565 | Test Loss: 0.4014 | Test Acc: 90.90%\n",
      "\n",
      "--- Epoch 29/50 ---\n"
     ]
    },
    {
     "output_type": "stream",
     "name": "stderr",
     "text": []
    },
    {
     "output_type": "stream",
     "name": "stdout",
     "text": [
      "新的最佳准确率: 91.58% (优于之前的 91.24%)。正在保存模型...\n",
      "Epoch 29 Summary: Train Loss: 0.0513 | Test Loss: 0.3566 | Test Acc: 91.58%\n",
      "\n",
      "--- Epoch 30/50 ---\n"
     ]
    },
    {
     "output_type": "stream",
     "name": "stderr",
     "text": []
    },
    {
     "output_type": "stream",
     "name": "stdout",
     "text": [
      "新的最佳准确率: 91.64% (优于之前的 91.58%)。正在保存模型...\n",
      "Epoch 30 Summary: Train Loss: 0.0445 | Test Loss: 0.3651 | Test Acc: 91.64%\n",
      "\n",
      "--- Epoch 31/50 ---\n"
     ]
    },
    {
     "output_type": "stream",
     "name": "stderr",
     "text": []
    },
    {
     "output_type": "stream",
     "name": "stdout",
     "text": [
      "Epoch 31 Summary: Train Loss: 0.0377 | Test Loss: 0.4058 | Test Acc: 91.32%\n",
      "\n",
      "--- Epoch 32/50 ---\n"
     ]
    },
    {
     "output_type": "stream",
     "name": "stderr",
     "text": []
    },
    {
     "output_type": "stream",
     "name": "stdout",
     "text": [
      "新的最佳准确率: 91.84% (优于之前的 91.64%)。正在保存模型...\n",
      "Epoch 32 Summary: Train Loss: 0.0320 | Test Loss: 0.3888 | Test Acc: 91.84%\n",
      "\n",
      "--- Epoch 33/50 ---\n"
     ]
    },
    {
     "output_type": "stream",
     "name": "stderr",
     "text": []
    },
    {
     "output_type": "stream",
     "name": "stdout",
     "text": [
      "新的最佳准确率: 92.01% (优于之前的 91.84%)。正在保存模型...\n",
      "Epoch 33 Summary: Train Loss: 0.0259 | Test Loss: 0.3987 | Test Acc: 92.01%\n",
      "\n",
      "--- Epoch 34/50 ---\n"
     ]
    },
    {
     "output_type": "stream",
     "name": "stderr",
     "text": []
    },
    {
     "output_type": "stream",
     "name": "stdout",
     "text": [
      "新的最佳准确率: 92.07% (优于之前的 92.01%)。正在保存模型...\n",
      "Epoch 34 Summary: Train Loss: 0.0239 | Test Loss: 0.4171 | Test Acc: 92.07%\n",
      "\n",
      "--- Epoch 35/50 ---\n"
     ]
    },
    {
     "output_type": "stream",
     "name": "stderr",
     "text": []
    },
    {
     "output_type": "stream",
     "name": "stdout",
     "text": [
      "新的最佳准确率: 92.20% (优于之前的 92.07%)。正在保存模型...\n",
      "Epoch 35 Summary: Train Loss: 0.0215 | Test Loss: 0.3971 | Test Acc: 92.20%\n",
      "\n",
      "--- Epoch 36/50 ---\n"
     ]
    },
    {
     "output_type": "stream",
     "name": "stderr",
     "text": []
    },
    {
     "output_type": "stream",
     "name": "stdout",
     "text": [
      "Epoch 36 Summary: Train Loss: 0.0178 | Test Loss: 0.4136 | Test Acc: 92.08%\n",
      "\n",
      "--- Epoch 37/50 ---\n"
     ]
    },
    {
     "output_type": "stream",
     "name": "stderr",
     "text": []
    },
    {
     "output_type": "stream",
     "name": "stdout",
     "text": [
      "Epoch 37 Summary: Train Loss: 0.0150 | Test Loss: 0.4369 | Test Acc: 92.14%\n",
      "\n",
      "--- Epoch 38/50 ---\n"
     ]
    },
    {
     "output_type": "stream",
     "name": "stderr",
     "text": []
    },
    {
     "output_type": "stream",
     "name": "stdout",
     "text": [
      "新的最佳准确率: 92.50% (优于之前的 92.20%)。正在保存模型...\n",
      "Epoch 38 Summary: Train Loss: 0.0146 | Test Loss: 0.4130 | Test Acc: 92.50%\n",
      "\n",
      "--- Epoch 39/50 ---\n"
     ]
    },
    {
     "output_type": "stream",
     "name": "stderr",
     "text": []
    },
    {
     "output_type": "stream",
     "name": "stdout",
     "text": [
      "Epoch 39 Summary: Train Loss: 0.0112 | Test Loss: 0.4214 | Test Acc: 92.37%\n",
      "\n",
      "--- Epoch 40/50 ---\n"
     ]
    },
    {
     "output_type": "stream",
     "name": "stderr",
     "text": []
    },
    {
     "output_type": "stream",
     "name": "stdout",
     "text": [
      "新的最佳准确率: 92.82% (优于之前的 92.50%)。正在保存模型...\n",
      "Epoch 40 Summary: Train Loss: 0.0093 | Test Loss: 0.4112 | Test Acc: 92.82%\n",
      "\n",
      "--- Epoch 41/50 ---\n"
     ]
    },
    {
     "output_type": "stream",
     "name": "stderr",
     "text": []
    },
    {
     "output_type": "stream",
     "name": "stdout",
     "text": [
      "Epoch 41 Summary: Train Loss: 0.0075 | Test Loss: 0.4188 | Test Acc: 92.70%\n",
      "\n",
      "--- Epoch 42/50 ---\n"
     ]
    },
    {
     "output_type": "stream",
     "name": "stderr",
     "text": []
    },
    {
     "output_type": "stream",
     "name": "stdout",
     "text": [
      "Epoch 42 Summary: Train Loss: 0.0068 | Test Loss: 0.4199 | Test Acc: 92.73%\n",
      "\n",
      "--- Epoch 43/50 ---\n"
     ]
    },
    {
     "output_type": "stream",
     "name": "stderr",
     "text": []
    },
    {
     "output_type": "stream",
     "name": "stdout",
     "text": [
      "新的最佳准确率: 92.85% (优于之前的 92.82%)。正在保存模型...\n",
      "Epoch 43 Summary: Train Loss: 0.0055 | Test Loss: 0.4113 | Test Acc: 92.85%\n",
      "\n",
      "--- Epoch 44/50 ---\n"
     ]
    },
    {
     "output_type": "stream",
     "name": "stderr",
     "text": []
    },
    {
     "output_type": "stream",
     "name": "stdout",
     "text": [
      "Epoch 44 Summary: Train Loss: 0.0052 | Test Loss: 0.4194 | Test Acc: 92.68%\n",
      "\n",
      "--- Epoch 45/50 ---\n"
     ]
    },
    {
     "output_type": "stream",
     "name": "stderr",
     "text": []
    },
    {
     "output_type": "stream",
     "name": "stdout",
     "text": [
      "Epoch 45 Summary: Train Loss: 0.0048 | Test Loss: 0.4212 | Test Acc: 92.78%\n",
      "\n",
      "--- Epoch 46/50 ---\n"
     ]
    },
    {
     "output_type": "stream",
     "name": "stderr",
     "text": []
    },
    {
     "output_type": "stream",
     "name": "stdout",
     "text": [
      "新的最佳准确率: 92.92% (优于之前的 92.85%)。正在保存模型...\n",
      "Epoch 46 Summary: Train Loss: 0.0041 | Test Loss: 0.4232 | Test Acc: 92.92%\n",
      "\n",
      "--- Epoch 47/50 ---\n"
     ]
    },
    {
     "output_type": "stream",
     "name": "stderr",
     "text": []
    },
    {
     "output_type": "stream",
     "name": "stdout",
     "text": [
      "Epoch 47 Summary: Train Loss: 0.0038 | Test Loss: 0.4182 | Test Acc: 92.86%\n",
      "\n",
      "--- Epoch 48/50 ---\n"
     ]
    },
    {
     "output_type": "stream",
     "name": "stderr",
     "text": []
    },
    {
     "output_type": "stream",
     "name": "stdout",
     "text": [
      "Epoch 48 Summary: Train Loss: 0.0033 | Test Loss: 0.4213 | Test Acc: 92.75%\n",
      "\n",
      "--- Epoch 49/50 ---\n"
     ]
    },
    {
     "output_type": "stream",
     "name": "stderr",
     "text": []
    },
    {
     "output_type": "stream",
     "name": "stdout",
     "text": [
      "Epoch 49 Summary: Train Loss: 0.0034 | Test Loss: 0.4244 | Test Acc: 92.78%\n",
      "\n",
      "--- Epoch 50/50 ---\n"
     ]
    },
    {
     "output_type": "stream",
     "name": "stderr",
     "text": []
    },
    {
     "output_type": "stream",
     "name": "stdout",
     "text": [
      "Epoch 50 Summary: Train Loss: 0.0029 | Test Loss: 0.4253 | Test Acc: 92.77%\n",
      "\n",
      "========================================\n",
      " 实验结束: 5_ResNet-18_Standard\n",
      "  -> 最高测试准确率: 92.92%\n",
      "  -> 总训练时间: 40.07 分钟\n",
      "  -> 训练日志已保存到: results/training_logs/5_ResNet-18_Standard_log.csv\n",
      "  -> 最终结果已汇总到: results/summary_results.csv\n",
      "========================================\n",
      "\n",
      "\n",
      "========================================\n",
      "开始实验: 6_ResNet-18_No-BN\n",
      "========================================\n",
      "模型: 6_ResNet-18_No-BN\n",
      "  -> 参数量 (Params): 11.16 M\n",
      "  -> 计算量 (FLOPs): 0.56 G\n",
      "\n",
      "--- Epoch 1/50 ---\n"
     ]
    },
    {
     "output_type": "stream",
     "name": "stderr",
     "text": []
    },
    {
     "output_type": "stream",
     "name": "stdout",
     "text": [
      "新的最佳准确率: 40.80% (优于之前的 0.00%)。正在保存模型...\n",
      "Epoch 1 Summary: Train Loss: 1.8299 | Test Loss: 1.5964 | Test Acc: 40.80%\n",
      "\n",
      "--- Epoch 2/50 ---\n"
     ]
    },
    {
     "output_type": "stream",
     "name": "stderr",
     "text": []
    },
    {
     "output_type": "stream",
     "name": "stdout",
     "text": [
      "新的最佳准确率: 58.38% (优于之前的 40.80%)。正在保存模型...\n",
      "Epoch 2 Summary: Train Loss: 1.3274 | Test Loss: 1.1668 | Test Acc: 58.38%\n",
      "\n",
      "--- Epoch 3/50 ---\n"
     ]
    },
    {
     "output_type": "stream",
     "name": "stderr",
     "text": []
    },
    {
     "output_type": "stream",
     "name": "stdout",
     "text": [
      "新的最佳准确率: 66.05% (优于之前的 58.38%)。正在保存模型...\n",
      "Epoch 3 Summary: Train Loss: 1.0292 | Test Loss: 0.9611 | Test Acc: 66.05%\n",
      "\n",
      "--- Epoch 4/50 ---\n"
     ]
    },
    {
     "output_type": "stream",
     "name": "stderr",
     "text": []
    },
    {
     "output_type": "stream",
     "name": "stdout",
     "text": [
      "新的最佳准确率: 68.38% (优于之前的 66.05%)。正在保存模型...\n",
      "Epoch 4 Summary: Train Loss: 0.8572 | Test Loss: 0.9355 | Test Acc: 68.38%\n",
      "\n",
      "--- Epoch 5/50 ---\n"
     ]
    },
    {
     "output_type": "stream",
     "name": "stderr",
     "text": []
    },
    {
     "output_type": "stream",
     "name": "stdout",
     "text": [
      "新的最佳准确率: 76.05% (优于之前的 68.38%)。正在保存模型...\n",
      "Epoch 5 Summary: Train Loss: 0.7506 | Test Loss: 0.7116 | Test Acc: 76.05%\n",
      "\n",
      "--- Epoch 6/50 ---\n"
     ]
    },
    {
     "output_type": "stream",
     "name": "stderr",
     "text": []
    },
    {
     "output_type": "stream",
     "name": "stdout",
     "text": [
      "新的最佳准确率: 76.45% (优于之前的 76.05%)。正在保存模型...\n",
      "Epoch 6 Summary: Train Loss: 0.6844 | Test Loss: 0.6779 | Test Acc: 76.45%\n",
      "\n",
      "--- Epoch 7/50 ---\n"
     ]
    },
    {
     "output_type": "stream",
     "name": "stderr",
     "text": []
    },
    {
     "output_type": "stream",
     "name": "stdout",
     "text": [
      "新的最佳准确率: 77.87% (优于之前的 76.45%)。正在保存模型...\n",
      "Epoch 7 Summary: Train Loss: 0.6272 | Test Loss: 0.6378 | Test Acc: 77.87%\n",
      "\n",
      "--- Epoch 8/50 ---\n"
     ]
    },
    {
     "output_type": "stream",
     "name": "stderr",
     "text": []
    },
    {
     "output_type": "stream",
     "name": "stdout",
     "text": [
      "新的最佳准确率: 78.59% (优于之前的 77.87%)。正在保存模型...\n",
      "Epoch 8 Summary: Train Loss: 0.5826 | Test Loss: 0.6243 | Test Acc: 78.59%\n",
      "\n",
      "--- Epoch 9/50 ---\n"
     ]
    },
    {
     "output_type": "stream",
     "name": "stderr",
     "text": []
    },
    {
     "output_type": "stream",
     "name": "stdout",
     "text": [
      "新的最佳准确率: 78.87% (优于之前的 78.59%)。正在保存模型...\n",
      "Epoch 9 Summary: Train Loss: 0.5454 | Test Loss: 0.6459 | Test Acc: 78.87%\n",
      "\n",
      "--- Epoch 10/50 ---\n"
     ]
    },
    {
     "output_type": "stream",
     "name": "stderr",
     "text": []
    },
    {
     "output_type": "stream",
     "name": "stdout",
     "text": [
      "新的最佳准确率: 79.49% (优于之前的 78.87%)。正在保存模型...\n",
      "Epoch 10 Summary: Train Loss: 0.5184 | Test Loss: 0.6103 | Test Acc: 79.49%\n",
      "\n",
      "--- Epoch 11/50 ---\n"
     ]
    },
    {
     "output_type": "stream",
     "name": "stderr",
     "text": []
    },
    {
     "output_type": "stream",
     "name": "stdout",
     "text": [
      "新的最佳准确率: 80.94% (优于之前的 79.49%)。正在保存模型...\n",
      "Epoch 11 Summary: Train Loss: 0.4963 | Test Loss: 0.5636 | Test Acc: 80.94%\n",
      "\n",
      "--- Epoch 12/50 ---\n"
     ]
    },
    {
     "output_type": "stream",
     "name": "stderr",
     "text": []
    },
    {
     "output_type": "stream",
     "name": "stdout",
     "text": [
      "新的最佳准确率: 81.74% (优于之前的 80.94%)。正在保存模型...\n",
      "Epoch 12 Summary: Train Loss: 0.4634 | Test Loss: 0.5473 | Test Acc: 81.74%\n",
      "\n",
      "--- Epoch 13/50 ---\n"
     ]
    },
    {
     "output_type": "stream",
     "name": "stderr",
     "text": []
    },
    {
     "output_type": "stream",
     "name": "stdout",
     "text": [
      "新的最佳准确率: 82.01% (优于之前的 81.74%)。正在保存模型...\n",
      "Epoch 13 Summary: Train Loss: 0.4433 | Test Loss: 0.5437 | Test Acc: 82.01%\n",
      "\n",
      "--- Epoch 14/50 ---\n"
     ]
    },
    {
     "output_type": "stream",
     "name": "stderr",
     "text": []
    },
    {
     "output_type": "stream",
     "name": "stdout",
     "text": [
      "新的最佳准确率: 82.37% (优于之前的 82.01%)。正在保存模型...\n",
      "Epoch 14 Summary: Train Loss: 0.4228 | Test Loss: 0.5259 | Test Acc: 82.37%\n",
      "\n",
      "--- Epoch 15/50 ---\n"
     ]
    },
    {
     "output_type": "stream",
     "name": "stderr",
     "text": []
    },
    {
     "output_type": "stream",
     "name": "stdout",
     "text": [
      "新的最佳准确率: 83.84% (优于之前的 82.37%)。正在保存模型...\n",
      "Epoch 15 Summary: Train Loss: 0.4028 | Test Loss: 0.4827 | Test Acc: 83.84%\n",
      "\n",
      "--- Epoch 16/50 ---\n"
     ]
    },
    {
     "output_type": "stream",
     "name": "stderr",
     "text": []
    },
    {
     "output_type": "stream",
     "name": "stdout",
     "text": [
      "新的最佳准确率: 83.97% (优于之前的 83.84%)。正在保存模型...\n",
      "Epoch 16 Summary: Train Loss: 0.3842 | Test Loss: 0.5048 | Test Acc: 83.97%\n",
      "\n",
      "--- Epoch 17/50 ---\n"
     ]
    },
    {
     "output_type": "stream",
     "name": "stderr",
     "text": []
    },
    {
     "output_type": "stream",
     "name": "stdout",
     "text": [
      "新的最佳准确率: 84.08% (优于之前的 83.97%)。正在保存模型...\n",
      "Epoch 17 Summary: Train Loss: 0.3654 | Test Loss: 0.4917 | Test Acc: 84.08%\n",
      "\n",
      "--- Epoch 18/50 ---\n"
     ]
    },
    {
     "output_type": "stream",
     "name": "stderr",
     "text": []
    },
    {
     "output_type": "stream",
     "name": "stdout",
     "text": [
      "新的最佳准确率: 84.38% (优于之前的 84.08%)。正在保存模型...\n",
      "Epoch 18 Summary: Train Loss: 0.3489 | Test Loss: 0.4771 | Test Acc: 84.38%\n",
      "\n",
      "--- Epoch 19/50 ---\n"
     ]
    },
    {
     "output_type": "stream",
     "name": "stderr",
     "text": []
    },
    {
     "output_type": "stream",
     "name": "stdout",
     "text": [
      "新的最佳准确率: 84.49% (优于之前的 84.38%)。正在保存模型...\n",
      "Epoch 19 Summary: Train Loss: 0.3313 | Test Loss: 0.4846 | Test Acc: 84.49%\n",
      "\n",
      "--- Epoch 20/50 ---\n"
     ]
    },
    {
     "output_type": "stream",
     "name": "stderr",
     "text": []
    },
    {
     "output_type": "stream",
     "name": "stdout",
     "text": [
      "Epoch 20 Summary: Train Loss: 0.3208 | Test Loss: 0.4793 | Test Acc: 84.44%\n",
      "\n",
      "--- Epoch 21/50 ---\n"
     ]
    },
    {
     "output_type": "stream",
     "name": "stderr",
     "text": []
    },
    {
     "output_type": "stream",
     "name": "stdout",
     "text": [
      "Epoch 21 Summary: Train Loss: 0.3029 | Test Loss: 0.5247 | Test Acc: 83.46%\n",
      "\n",
      "--- Epoch 22/50 ---\n"
     ]
    },
    {
     "output_type": "stream",
     "name": "stderr",
     "text": []
    },
    {
     "output_type": "stream",
     "name": "stdout",
     "text": [
      "新的最佳准确率: 85.54% (优于之前的 84.49%)。正在保存模型...\n",
      "Epoch 22 Summary: Train Loss: 0.2918 | Test Loss: 0.4478 | Test Acc: 85.54%\n",
      "\n",
      "--- Epoch 23/50 ---\n"
     ]
    },
    {
     "output_type": "stream",
     "name": "stderr",
     "text": []
    },
    {
     "output_type": "stream",
     "name": "stdout",
     "text": [
      "新的最佳准确率: 85.73% (优于之前的 85.54%)。正在保存模型...\n",
      "Epoch 23 Summary: Train Loss: 0.2761 | Test Loss: 0.4442 | Test Acc: 85.73%\n",
      "\n",
      "--- Epoch 24/50 ---\n"
     ]
    },
    {
     "output_type": "stream",
     "name": "stderr",
     "text": []
    },
    {
     "output_type": "stream",
     "name": "stdout",
     "text": [
      "Epoch 24 Summary: Train Loss: 0.2597 | Test Loss: 0.4640 | Test Acc: 85.64%\n",
      "\n",
      "--- Epoch 25/50 ---\n"
     ]
    },
    {
     "output_type": "stream",
     "name": "stderr",
     "text": []
    },
    {
     "output_type": "stream",
     "name": "stdout",
     "text": [
      "新的最佳准确率: 86.04% (优于之前的 85.73%)。正在保存模型...\n",
      "Epoch 25 Summary: Train Loss: 0.2407 | Test Loss: 0.4464 | Test Acc: 86.04%\n",
      "\n",
      "--- Epoch 26/50 ---\n"
     ]
    },
    {
     "output_type": "stream",
     "name": "stderr",
     "text": []
    },
    {
     "output_type": "stream",
     "name": "stdout",
     "text": [
      "新的最佳准确率: 86.61% (优于之前的 86.04%)。正在保存模型...\n",
      "Epoch 26 Summary: Train Loss: 0.2317 | Test Loss: 0.4359 | Test Acc: 86.61%\n",
      "\n",
      "--- Epoch 27/50 ---\n"
     ]
    },
    {
     "output_type": "stream",
     "name": "stderr",
     "text": []
    },
    {
     "output_type": "stream",
     "name": "stdout",
     "text": [
      "Epoch 27 Summary: Train Loss: 0.2145 | Test Loss: 0.4494 | Test Acc: 86.14%\n",
      "\n",
      "--- Epoch 28/50 ---\n"
     ]
    },
    {
     "output_type": "stream",
     "name": "stderr",
     "text": []
    },
    {
     "output_type": "stream",
     "name": "stdout",
     "text": [
      "新的最佳准确率: 87.41% (优于之前的 86.61%)。正在保存模型...\n",
      "Epoch 28 Summary: Train Loss: 0.2055 | Test Loss: 0.4288 | Test Acc: 87.41%\n",
      "\n",
      "--- Epoch 29/50 ---\n"
     ]
    },
    {
     "output_type": "stream",
     "name": "stderr",
     "text": []
    },
    {
     "output_type": "stream",
     "name": "stdout",
     "text": [
      "Epoch 29 Summary: Train Loss: 0.1866 | Test Loss: 0.4395 | Test Acc: 87.07%\n",
      "\n",
      "--- Epoch 30/50 ---\n"
     ]
    },
    {
     "output_type": "stream",
     "name": "stderr",
     "text": []
    },
    {
     "output_type": "stream",
     "name": "stdout",
     "text": [
      "Epoch 30 Summary: Train Loss: 0.1781 | Test Loss: 0.4323 | Test Acc: 87.37%\n",
      "\n",
      "--- Epoch 31/50 ---\n"
     ]
    },
    {
     "output_type": "stream",
     "name": "stderr",
     "text": []
    },
    {
     "output_type": "stream",
     "name": "stdout",
     "text": [
      "新的最佳准确率: 87.60% (优于之前的 87.41%)。正在保存模型...\n",
      "Epoch 31 Summary: Train Loss: 0.1681 | Test Loss: 0.4485 | Test Acc: 87.60%\n",
      "\n",
      "--- Epoch 32/50 ---\n"
     ]
    },
    {
     "output_type": "stream",
     "name": "stderr",
     "text": []
    },
    {
     "output_type": "stream",
     "name": "stdout",
     "text": [
      "Epoch 32 Summary: Train Loss: 0.1570 | Test Loss: 0.4868 | Test Acc: 86.79%\n",
      "\n",
      "--- Epoch 33/50 ---\n"
     ]
    },
    {
     "output_type": "stream",
     "name": "stderr",
     "text": []
    },
    {
     "output_type": "stream",
     "name": "stdout",
     "text": [
      "Epoch 33 Summary: Train Loss: 0.1490 | Test Loss: 0.4517 | Test Acc: 87.53%\n",
      "\n",
      "--- Epoch 34/50 ---\n"
     ]
    },
    {
     "output_type": "stream",
     "name": "stderr",
     "text": []
    },
    {
     "output_type": "stream",
     "name": "stdout",
     "text": [
      "新的最佳准确率: 87.74% (优于之前的 87.60%)。正在保存模型...\n",
      "Epoch 34 Summary: Train Loss: 0.1371 | Test Loss: 0.4594 | Test Acc: 87.74%\n",
      "\n",
      "--- Epoch 35/50 ---\n"
     ]
    },
    {
     "output_type": "stream",
     "name": "stderr",
     "text": []
    },
    {
     "output_type": "stream",
     "name": "stdout",
     "text": [
      "新的最佳准确率: 88.03% (优于之前的 87.74%)。正在保存模型...\n",
      "Epoch 35 Summary: Train Loss: 0.1268 | Test Loss: 0.4555 | Test Acc: 88.03%\n",
      "\n",
      "--- Epoch 36/50 ---\n"
     ]
    },
    {
     "output_type": "stream",
     "name": "stderr",
     "text": []
    },
    {
     "output_type": "stream",
     "name": "stdout",
     "text": [
      "Epoch 36 Summary: Train Loss: 0.1200 | Test Loss: 0.4635 | Test Acc: 87.91%\n",
      "\n",
      "--- Epoch 37/50 ---\n"
     ]
    },
    {
     "output_type": "stream",
     "name": "stderr",
     "text": []
    },
    {
     "output_type": "stream",
     "name": "stdout",
     "text": [
      "Epoch 37 Summary: Train Loss: 0.1099 | Test Loss: 0.4821 | Test Acc: 87.72%\n",
      "\n",
      "--- Epoch 38/50 ---\n"
     ]
    },
    {
     "output_type": "stream",
     "name": "stderr",
     "text": []
    },
    {
     "output_type": "stream",
     "name": "stdout",
     "text": [
      "新的最佳准确率: 88.19% (优于之前的 88.03%)。正在保存模型...\n",
      "Epoch 38 Summary: Train Loss: 0.1019 | Test Loss: 0.4686 | Test Acc: 88.19%\n",
      "\n",
      "--- Epoch 39/50 ---\n"
     ]
    },
    {
     "output_type": "stream",
     "name": "stderr",
     "text": []
    },
    {
     "output_type": "stream",
     "name": "stdout",
     "text": [
      "Epoch 39 Summary: Train Loss: 0.0933 | Test Loss: 0.5110 | Test Acc: 87.88%\n",
      "\n",
      "--- Epoch 40/50 ---\n"
     ]
    },
    {
     "output_type": "stream",
     "name": "stderr",
     "text": []
    },
    {
     "output_type": "stream",
     "name": "stdout",
     "text": [
      "Epoch 40 Summary: Train Loss: 0.0890 | Test Loss: 0.4952 | Test Acc: 88.02%\n",
      "\n",
      "--- Epoch 41/50 ---\n"
     ]
    },
    {
     "output_type": "stream",
     "name": "stderr",
     "text": []
    },
    {
     "output_type": "stream",
     "name": "stdout",
     "text": [
      "新的最佳准确率: 88.39% (优于之前的 88.19%)。正在保存模型...\n",
      "Epoch 41 Summary: Train Loss: 0.0801 | Test Loss: 0.5195 | Test Acc: 88.39%\n",
      "\n",
      "--- Epoch 42/50 ---\n"
     ]
    },
    {
     "output_type": "stream",
     "name": "stderr",
     "text": []
    },
    {
     "output_type": "stream",
     "name": "stdout",
     "text": [
      "Epoch 42 Summary: Train Loss: 0.0759 | Test Loss: 0.5383 | Test Acc: 88.23%\n",
      "\n",
      "--- Epoch 43/50 ---\n"
     ]
    },
    {
     "output_type": "stream",
     "name": "stderr",
     "text": []
    },
    {
     "output_type": "stream",
     "name": "stdout",
     "text": [
      "Epoch 43 Summary: Train Loss: 0.0748 | Test Loss: 0.5280 | Test Acc: 88.20%\n",
      "\n",
      "--- Epoch 44/50 ---\n"
     ]
    },
    {
     "output_type": "stream",
     "name": "stderr",
     "text": []
    },
    {
     "output_type": "stream",
     "name": "stdout",
     "text": [
      "新的最佳准确率: 88.47% (优于之前的 88.39%)。正在保存模型...\n",
      "Epoch 44 Summary: Train Loss: 0.0702 | Test Loss: 0.5221 | Test Acc: 88.47%\n",
      "\n",
      "--- Epoch 45/50 ---\n"
     ]
    },
    {
     "output_type": "stream",
     "name": "stderr",
     "text": []
    },
    {
     "output_type": "stream",
     "name": "stdout",
     "text": [
      "Epoch 45 Summary: Train Loss: 0.0634 | Test Loss: 0.5459 | Test Acc: 88.38%\n",
      "\n",
      "--- Epoch 46/50 ---\n"
     ]
    },
    {
     "output_type": "stream",
     "name": "stderr",
     "text": []
    },
    {
     "output_type": "stream",
     "name": "stdout",
     "text": [
      "Epoch 46 Summary: Train Loss: 0.0643 | Test Loss: 0.5432 | Test Acc: 88.42%\n",
      "\n",
      "--- Epoch 47/50 ---\n"
     ]
    },
    {
     "output_type": "stream",
     "name": "stderr",
     "text": []
    },
    {
     "output_type": "stream",
     "name": "stdout",
     "text": [
      "Epoch 47 Summary: Train Loss: 0.0625 | Test Loss: 0.5462 | Test Acc: 88.26%\n",
      "\n",
      "--- Epoch 48/50 ---\n"
     ]
    },
    {
     "output_type": "stream",
     "name": "stderr",
     "text": []
    },
    {
     "output_type": "stream",
     "name": "stdout",
     "text": [
      "Epoch 48 Summary: Train Loss: 0.0598 | Test Loss: 0.5501 | Test Acc: 88.42%\n",
      "\n",
      "--- Epoch 49/50 ---\n"
     ]
    },
    {
     "output_type": "stream",
     "name": "stderr",
     "text": []
    },
    {
     "output_type": "stream",
     "name": "stdout",
     "text": [
      "Epoch 49 Summary: Train Loss: 0.0599 | Test Loss: 0.5491 | Test Acc: 88.40%\n",
      "\n",
      "--- Epoch 50/50 ---\n"
     ]
    },
    {
     "output_type": "stream",
     "name": "stderr",
     "text": [
      "                                                                        "
     ]
    },
    {
     "output_type": "stream",
     "name": "stdout",
     "text": [
      "Epoch 50 Summary: Train Loss: 0.0596 | Test Loss: 0.5494 | Test Acc: 88.40%\n",
      "\n",
      "========================================\n",
      " 实验结束: 6_ResNet-18_No-BN\n",
      "  -> 最高测试准确率: 88.47%\n",
      "  -> 总训练时间: 35.04 分钟\n",
      "  -> 训练日志已保存到: results/training_logs/6_ResNet-18_No-BN_log.csv\n",
      "  -> 最终结果已汇总到: results/summary_results.csv\n",
      "========================================\n",
      "\n"
     ]
    },
    {
     "output_type": "stream",
     "name": "stderr",
     "text": [
      "\r"
     ]
    }
   ]
  },
  {
   "cell_type": "code",
   "source": [
    "\n",
    "    print(\"\\n\\n\" + \"=\" * 50)\n",
    "    print(\"开始生成对比图...\")\n",
    "    print(\"=\" * 50)\n",
    "\n",
    "    # --- 对比BN对CustomCNN模型的影响 ---\n",
    "    plot_and_save_comparison_chart(\n",
    "        experiment_names=['1_CustomCNN_Plain_No-BN', '2_CustomCNN_Plain_With-BN'],\n",
    "        metric='test_loss',\n",
    "        config=config\n",
    "    )\n",
    "\n",
    "    # --- 对比残差连接对CustomCNN模型的影响 ---\n",
    "    plot_and_save_comparison_chart(\n",
    "        experiment_names=['2_CustomCNN_Plain_With-BN', '3_CustomCNN_Residual_With-BN'],\n",
    "        metric='test_acc',\n",
    "        config=config\n",
    "    )\n",
    "\n",
    "    # --- 对比残差连接对深层网络(ResNet)的影响 ---\n",
    "    plot_and_save_comparison_chart(\n",
    "        experiment_names=['4_PlainNet-18', '5_ResNet-18_Standard'],\n",
    "        metric='test_loss',\n",
    "        config=config\n",
    "    )\n",
    "\n",
    "    # --- 对比BN对深层网络(ResNet)的影响 ---\n",
    "    plot_and_save_comparison_chart(\n",
    "        experiment_names=['5_ResNet-18_Standard', '6_ResNet-18_No-BN'],\n",
    "        metric='test_acc',\n",
    "        config=config\n",
    "    )\n",
    "\n",
    "    # --- 对比所有模型的测试准确率 ---\n",
    "    plot_and_save_comparison_chart(\n",
    "        experiment_names=list(experiments.keys()),\n",
    "        metric='test_acc',\n",
    "        config=config\n",
    "    )"
   ],
   "metadata": {
    "colab": {
     "base_uri": "https://localhost:8080/"
    },
    "id": "EEuGIGECxBur",
    "outputId": "ec90dd4c-4aa4-4dbc-c76d-a6c777df545f"
   },
   "execution_count": 18,
   "outputs": [
    {
     "output_type": "stream",
     "name": "stdout",
     "text": [
      "\n",
      "\n",
      "==================================================\n",
      "开始生成对比图...\n",
      "==================================================\n",
      "对比图已保存到: results/plots/comparison_1_CustomCNN_Plain_No-BN_vs_2_CustomCNN_Plain_With-BN_test_loss.png\n",
      "对比图已保存到: results/plots/comparison_2_CustomCNN_Plain_With-BN_vs_3_CustomCNN_Residual_With-BN_test_acc.png\n",
      "对比图已保存到: results/plots/comparison_4_PlainNet-18_vs_5_ResNet-18_Standard_test_loss.png\n",
      "对比图已保存到: results/plots/comparison_5_ResNet-18_Standard_vs_6_ResNet-18_No-BN_test_acc.png\n",
      "对比图已保存到: results/plots/comparison_1_CustomCNN_Plain_No-BN_vs_2_CustomCNN_Plain_With-BN_vs_3_CustomCNN_Residual_With-BN_vs_4_PlainNet-18_vs_5_ResNet-18_Standard_vs_6_ResNet-18_No-BN_test_acc.png\n"
     ]
    }
   ]
  }
 ]
}
